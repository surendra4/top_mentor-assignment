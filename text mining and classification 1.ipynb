{
 "cells": [
  {
   "cell_type": "code",
   "execution_count": 1,
   "id": "1107a0fa",
   "metadata": {},
   "outputs": [],
   "source": [
    "import nltk"
   ]
  },
  {
   "cell_type": "code",
   "execution_count": 6,
   "id": "915d9892",
   "metadata": {},
   "outputs": [],
   "source": [
    "import nltk.corpus"
   ]
  },
  {
   "cell_type": "code",
   "execution_count": 8,
   "id": "fa4a2afe",
   "metadata": {},
   "outputs": [],
   "source": [
    "text = \"\"\"When looking at the data, there is a misrepresentation in Dalit education in many\n",
    "states and villages, with only few states actually educating them past a certain point \n",
    "at a reasonable rate. This is due to the socio-economic hardships of not only being poorer\n",
    "and unable to get certain jobs, but also because they are not socially accepted by everyone in India.\"\"\"\n"
   ]
  },
  {
   "cell_type": "code",
   "execution_count": 9,
   "id": "01a2efa8",
   "metadata": {},
   "outputs": [],
   "source": [
    "from nltk.tokenize import word_tokenize"
   ]
  },
  {
   "cell_type": "code",
   "execution_count": 15,
   "id": "3e31cc9a",
   "metadata": {},
   "outputs": [
    {
     "name": "stdout",
     "output_type": "stream",
     "text": [
      "['When', 'looking', 'at', 'the', 'data', ',', 'there', 'is', 'a', 'misrepresentation', 'in', 'Dalit', 'education', 'in', 'many', 'states', 'and', 'villages', ',', 'with', 'only', 'few', 'states', 'actually', 'educating', 'them', 'past', 'a', 'certain', 'point', 'at', 'a', 'reasonable', 'rate', '.', 'This', 'is', 'due', 'to', 'the', 'socio-economic', 'hardships', 'of', 'not', 'only', 'being', 'poorer', 'and', 'unable', 'to', 'get', 'certain', 'jobs', ',', 'but', 'also', 'because', 'they', 'are', 'not', 'socially', 'accepted', 'by', 'everyone', 'in', 'India', '.']\n"
     ]
    }
   ],
   "source": [
    "tokens = word_tokenize(text)\n",
    "print(tokens)"
   ]
  },
  {
   "cell_type": "code",
   "execution_count": 12,
   "id": "ff31d015",
   "metadata": {},
   "outputs": [
    {
     "name": "stderr",
     "output_type": "stream",
     "text": [
      "[nltk_data] Downloading package punkt to\n",
      "[nltk_data]     C:\\Users\\Surendra\\AppData\\Roaming\\nltk_data...\n",
      "[nltk_data]   Unzipping tokenizers\\punkt.zip.\n"
     ]
    },
    {
     "data": {
      "text/plain": [
       "True"
      ]
     },
     "execution_count": 12,
     "metadata": {},
     "output_type": "execute_result"
    }
   ],
   "source": [
    "import nltk\n",
    "nltk.download('punkt')\n",
    "  "
   ]
  },
  {
   "cell_type": "code",
   "execution_count": 18,
   "id": "db563496",
   "metadata": {},
   "outputs": [],
   "source": [
    "#find the freq of the word \n",
    "from nltk.probability import FreqDist\n"
   ]
  },
  {
   "cell_type": "code",
   "execution_count": 20,
   "id": "6e5c10ea",
   "metadata": {
    "scrolled": true
   },
   "outputs": [
    {
     "data": {
      "text/plain": [
       "FreqDist({',': 3, 'a': 3, 'in': 3, 'at': 2, 'the': 2, 'is': 2, 'states': 2, 'and': 2, 'only': 2, 'certain': 2, ...})"
      ]
     },
     "execution_count": 20,
     "metadata": {},
     "output_type": "execute_result"
    }
   ],
   "source": [
    "freq = FreqDist(tokens)\n",
    "freq"
   ]
  },
  {
   "cell_type": "code",
   "execution_count": null,
   "id": "807537ed",
   "metadata": {},
   "outputs": [],
   "source": [
    "#to find top 10 words"
   ]
  },
  {
   "cell_type": "code",
   "execution_count": 24,
   "id": "71eeaf49",
   "metadata": {},
   "outputs": [
    {
     "data": {
      "text/plain": [
       "[(',', 3),\n",
       " ('a', 3),\n",
       " ('in', 3),\n",
       " ('at', 2),\n",
       " ('the', 2),\n",
       " ('is', 2),\n",
       " ('states', 2),\n",
       " ('and', 2),\n",
       " ('only', 2),\n",
       " ('certain', 2)]"
      ]
     },
     "execution_count": 24,
     "metadata": {},
     "output_type": "execute_result"
    }
   ],
   "source": [
    "freq1 = freq.most_common(10)\n",
    "freq1"
   ]
  },
  {
   "cell_type": "code",
   "execution_count": null,
   "id": "1680fe7f",
   "metadata": {},
   "outputs": [],
   "source": [
    "#dtemming and lemitization "
   ]
  },
  {
   "cell_type": "code",
   "execution_count": 34,
   "id": "7720f75d",
   "metadata": {},
   "outputs": [
    {
     "data": {
      "text/plain": [
       "'consid'"
      ]
     },
     "execution_count": 34,
     "metadata": {},
     "output_type": "execute_result"
    }
   ],
   "source": [
    "from nltk.stem import PorterStemmer\n",
    "pot = PorterStemmer()\n",
    "pot.stem('considering')"
   ]
  },
  {
   "cell_type": "code",
   "execution_count": 35,
   "id": "00bc0327",
   "metadata": {},
   "outputs": [
    {
     "name": "stdout",
     "output_type": "stream",
     "text": [
      "wait\n",
      "wait\n",
      "wait\n",
      "wait\n"
     ]
    }
   ],
   "source": [
    "words  = ['waits','waiting','waited','wait']\n",
    "for i in words:\n",
    "    print(pot.stem(i))"
   ]
  },
  {
   "cell_type": "code",
   "execution_count": 37,
   "id": "2a9ed329",
   "metadata": {},
   "outputs": [
    {
     "data": {
      "text/plain": [
       "'consid'"
      ]
     },
     "execution_count": 37,
     "metadata": {},
     "output_type": "execute_result"
    }
   ],
   "source": [
    "from nltk.stem import LancasterStemmer\n",
    "len = LancasterStemmer()\n",
    "len.stem('considering')"
   ]
  },
  {
   "cell_type": "code",
   "execution_count": 38,
   "id": "a880441e",
   "metadata": {},
   "outputs": [
    {
     "name": "stdout",
     "output_type": "stream",
     "text": [
      "wait\n",
      "wait\n",
      "wait\n",
      "wait\n"
     ]
    }
   ],
   "source": [
    "words  = ['waits','waiting','waited','wait']\n",
    "for i in words:\n",
    "    print(len.stem(i))"
   ]
  },
  {
   "cell_type": "code",
   "execution_count": 48,
   "id": "1ae70bb3",
   "metadata": {},
   "outputs": [],
   "source": [
    "from nltk import WordNetLemmatizer\n",
    "lm =  WordNetLemmatizer()"
   ]
  },
  {
   "cell_type": "code",
   "execution_count": 52,
   "id": "5b2c0c44",
   "metadata": {},
   "outputs": [
    {
     "name": "stdout",
     "output_type": "stream",
     "text": [
      "step\n"
     ]
    }
   ],
   "source": [
    "print(lm.lemmatize('steps'))"
   ]
  },
  {
   "cell_type": "code",
   "execution_count": 47,
   "id": "9c9ec7b3",
   "metadata": {},
   "outputs": [
    {
     "name": "stderr",
     "output_type": "stream",
     "text": [
      "[nltk_data] Downloading package wordnet to\n",
      "[nltk_data]     C:\\Users\\Surendra\\AppData\\Roaming\\nltk_data...\n",
      "[nltk_data]   Unzipping corpora\\wordnet.zip.\n"
     ]
    },
    {
     "data": {
      "text/plain": [
       "True"
      ]
     },
     "execution_count": 47,
     "metadata": {},
     "output_type": "execute_result"
    }
   ],
   "source": [
    "import nltk\n",
    "nltk.download('wordnet')"
   ]
  },
  {
   "cell_type": "code",
   "execution_count": 60,
   "id": "7a114401",
   "metadata": {},
   "outputs": [
    {
     "name": "stderr",
     "output_type": "stream",
     "text": [
      "[nltk_data] Downloading package stopwords to\n",
      "[nltk_data]     C:\\Users\\Surendra\\AppData\\Roaming\\nltk_data...\n",
      "[nltk_data]   Unzipping corpora\\stopwords.zip.\n"
     ]
    },
    {
     "data": {
      "text/plain": [
       "True"
      ]
     },
     "execution_count": 60,
     "metadata": {},
     "output_type": "execute_result"
    }
   ],
   "source": [
    "import nltk\n",
    "nltk.download('stopwords')"
   ]
  },
  {
   "cell_type": "code",
   "execution_count": 69,
   "id": "54063f79",
   "metadata": {
    "scrolled": true
   },
   "outputs": [],
   "source": [
    "#stopwords to remove is the of are but etc\n",
    "from nltk.corpus import stopwords\n",
    "a = set(stopwords.words('english'))\n"
   ]
  },
  {
   "cell_type": "code",
   "execution_count": 70,
   "id": "cf46546d",
   "metadata": {},
   "outputs": [],
   "source": [
    "text1= ' ram is a good boy but he is not able to do work properly'\n"
   ]
  },
  {
   "cell_type": "code",
   "execution_count": 71,
   "id": "b3f105d6",
   "metadata": {},
   "outputs": [
    {
     "data": {
      "text/plain": [
       "['ram',\n",
       " 'is',\n",
       " 'a',\n",
       " 'good',\n",
       " 'boy',\n",
       " 'but',\n",
       " 'he',\n",
       " 'is',\n",
       " 'not',\n",
       " 'able',\n",
       " 'to',\n",
       " 'do',\n",
       " 'work',\n",
       " 'properly']"
      ]
     },
     "execution_count": 71,
     "metadata": {},
     "output_type": "execute_result"
    }
   ],
   "source": [
    "text1 = word_tokenize(text1.lower())\n",
    "text1"
   ]
  },
  {
   "cell_type": "code",
   "execution_count": 74,
   "id": "8a486c10",
   "metadata": {},
   "outputs": [
    {
     "data": {
      "text/plain": [
       "['ram', 'good', 'boy', 'able', 'work', 'properly']"
      ]
     },
     "execution_count": 74,
     "metadata": {},
     "output_type": "execute_result"
    }
   ],
   "source": [
    "stepwords =[x for x in text1 if x not in a]\n",
    "stepwords"
   ]
  },
  {
   "cell_type": "code",
   "execution_count": 82,
   "id": "2fb31b3c",
   "metadata": {},
   "outputs": [
    {
     "name": "stdout",
     "output_type": "stream",
     "text": [
      "[('ram', 'NN')]\n",
      "[('is', 'VBZ')]\n",
      "[('a', 'DT')]\n",
      "[('good', 'JJ')]\n",
      "[('boy', 'NN')]\n",
      "[('but', 'CC')]\n",
      "[('he', 'PRP')]\n",
      "[('is', 'VBZ')]\n",
      "[('not', 'RB')]\n",
      "[('able', 'JJ')]\n",
      "[('to', 'TO')]\n",
      "[('do', 'VB')]\n",
      "[('work', 'NN')]\n",
      "[('properly', 'RB')]\n"
     ]
    }
   ],
   "source": [
    "#part of speech \n",
    "for i in text1:\n",
    "    print(nltk.pos_tag([i]))"
   ]
  },
  {
   "cell_type": "code",
   "execution_count": 80,
   "id": "deca15ab",
   "metadata": {},
   "outputs": [
    {
     "name": "stderr",
     "output_type": "stream",
     "text": [
      "[nltk_data] Downloading package averaged_perceptron_tagger to\n",
      "[nltk_data]     C:\\Users\\Surendra\\AppData\\Roaming\\nltk_data...\n",
      "[nltk_data]   Unzipping taggers\\averaged_perceptron_tagger.zip.\n"
     ]
    },
    {
     "data": {
      "text/plain": [
       "True"
      ]
     },
     "execution_count": 80,
     "metadata": {},
     "output_type": "execute_result"
    }
   ],
   "source": [
    "\n",
    "import nltk\n",
    "nltk.download('averaged_perceptron_tagger')"
   ]
  },
  {
   "cell_type": "code",
   "execution_count": 83,
   "id": "8dcb368f",
   "metadata": {},
   "outputs": [],
   "source": [
    "#named entity recognizer\n",
    "t= 'twitter CEO name is Parag Agrwal and he won the 900 ctr ruppes in the 2020 best CEO award'\n",
    "\n"
   ]
  },
  {
   "cell_type": "code",
   "execution_count": 85,
   "id": "87677ccd",
   "metadata": {},
   "outputs": [
    {
     "data": {
      "text/plain": [
       "[('twitter', 'NN'),\n",
       " ('CEO', 'NNP'),\n",
       " ('name', 'NN'),\n",
       " ('is', 'VBZ'),\n",
       " ('Parag', 'NNP'),\n",
       " ('Agrwal', 'NNP'),\n",
       " ('and', 'CC'),\n",
       " ('he', 'PRP'),\n",
       " ('won', 'VBD'),\n",
       " ('the', 'DT'),\n",
       " ('900', 'CD'),\n",
       " ('ctr', 'NN'),\n",
       " ('ruppes', 'NNS'),\n",
       " ('in', 'IN'),\n",
       " ('the', 'DT'),\n",
       " ('2020', 'CD'),\n",
       " ('best', 'JJS'),\n",
       " ('CEO', 'NNP'),\n",
       " ('award', 'NN')]"
      ]
     },
     "execution_count": 85,
     "metadata": {},
     "output_type": "execute_result"
    }
   ],
   "source": [
    "token = word_tokenize(t)\n",
    "tags = nltk.pos_tag(token)\n",
    "tags"
   ]
  },
  {
   "cell_type": "code",
   "execution_count": 116,
   "id": "0df420cd",
   "metadata": {},
   "outputs": [],
   "source": [
    "import pandas as pd\n"
   ]
  },
  {
   "cell_type": "code",
   "execution_count": 117,
   "id": "e7f59552",
   "metadata": {},
   "outputs": [],
   "source": [
    "df = pd.read_csv('C:/Users/Surendra/Desktop/data science/TOP MENTOR/mysql/Top_mentor_projects_Datasets-main/Amazon reviews/Amazon reviews.csv')"
   ]
  },
  {
   "cell_type": "code",
   "execution_count": 118,
   "id": "ad1b734b",
   "metadata": {},
   "outputs": [
    {
     "data": {
      "text/plain": [
       "(34660, 21)"
      ]
     },
     "execution_count": 118,
     "metadata": {},
     "output_type": "execute_result"
    }
   ],
   "source": [
    "df.shape"
   ]
  },
  {
   "cell_type": "code",
   "execution_count": 119,
   "id": "6a9e1ca0",
   "metadata": {},
   "outputs": [
    {
     "data": {
      "text/plain": [
       "Index(['id', 'name', 'asins', 'brand', 'categories', 'keys', 'manufacturer',\n",
       "       'reviews.date', 'reviews.dateAdded', 'reviews.dateSeen',\n",
       "       'reviews.didPurchase', 'reviews.doRecommend', 'reviews.id',\n",
       "       'reviews.numHelpful', 'reviews.rating', 'reviews.sourceURLs',\n",
       "       'reviews.text', 'reviews.title', 'reviews.userCity',\n",
       "       'reviews.userProvince', 'reviews.username'],\n",
       "      dtype='object')"
      ]
     },
     "execution_count": 119,
     "metadata": {},
     "output_type": "execute_result"
    }
   ],
   "source": [
    "df.columns"
   ]
  },
  {
   "cell_type": "code",
   "execution_count": 120,
   "id": "a55a3f1f",
   "metadata": {},
   "outputs": [],
   "source": [
    "columns = ['id', 'name', 'keys', 'manufacturer',\n",
    "       'reviews.date','reviews.dateAdded','reviews.dateSeen',\n",
    "       'reviews.didPurchase','reviews.doRecommend','reviews.id',\n",
    "       'reviews.numHelpful','reviews.sourceURLs','reviews.title']\n"
   ]
  },
  {
   "cell_type": "code",
   "execution_count": 121,
   "id": "126c16d5",
   "metadata": {},
   "outputs": [
    {
     "data": {
      "text/plain": [
       "Index(['asins', 'brand', 'categories', 'reviews.rating', 'reviews.text',\n",
       "       'reviews.userCity', 'reviews.userProvince', 'reviews.username'],\n",
       "      dtype='object')"
      ]
     },
     "execution_count": 121,
     "metadata": {},
     "output_type": "execute_result"
    }
   ],
   "source": [
    "amaz = pd.DataFrame(df.drop(columns,axis = 1,inplace = False))\n",
    "amaz.columns"
   ]
  },
  {
   "cell_type": "code",
   "execution_count": 129,
   "id": "6ec85624",
   "metadata": {},
   "outputs": [
    {
     "data": {
      "text/plain": [
       "<AxesSubplot:>"
      ]
     },
     "execution_count": 129,
     "metadata": {},
     "output_type": "execute_result"
    },
    {
     "data": {
      "image/png": "[encoded data removed]",
      "text/plain": [
       "<Figure size 432x288 with 1 Axes>"
      ]
     },
     "metadata": {
      "needs_background": "light"
     },
     "output_type": "display_data"
    }
   ],
   "source": [
    "amaz['reviews.rating'].value_counts().plot(kind = 'barh', color = 'green')"
   ]
  },
  {
   "cell_type": "code",
   "execution_count": 131,
   "id": "28625ab3",
   "metadata": {},
   "outputs": [
    {
     "data": {
      "text/plain": [
       "asins                    object\n",
       "brand                    object\n",
       "categories               object\n",
       "reviews.rating          float64\n",
       "reviews.text             object\n",
       "reviews.userCity        float64\n",
       "reviews.userProvince    float64\n",
       "reviews.username         object\n",
       "dtype: object"
      ]
     },
     "execution_count": 131,
     "metadata": {},
     "output_type": "execute_result"
    }
   ],
   "source": [
    "amaz.dtypes"
   ]
  },
  {
   "cell_type": "code",
   "execution_count": 155,
   "id": "6d8da50e",
   "metadata": {},
   "outputs": [],
   "source": [
    "amaz['reviews.text'] = amaz['reviews.text'].astype('str')"
   ]
  },
  {
   "cell_type": "code",
   "execution_count": 156,
   "id": "19b1b222",
   "metadata": {},
   "outputs": [
    {
     "data": {
      "text/plain": [
       "'this product so far has not disappointed my children love to use it and i like the ability to monitor control what content they see with ease'"
      ]
     },
     "execution_count": 156,
     "metadata": {},
     "output_type": "execute_result"
    }
   ],
   "source": [
    "amaz['reviews.text'][0]  #first review of given reviews"
   ]
  },
  {
   "cell_type": "code",
   "execution_count": 157,
   "id": "10f6bf0e",
   "metadata": {},
   "outputs": [],
   "source": [
    "amaz['reviews.text'] = amaz['reviews.text'].apply(lambda t: str(t).lower())"
   ]
  },
  {
   "cell_type": "code",
   "execution_count": 158,
   "id": "ad19857b",
   "metadata": {},
   "outputs": [
    {
     "data": {
      "text/plain": [
       "'inexpensive tablet for him to use and learn on step up from the nabi he was thrilled with it learn how to skype on it already'"
      ]
     },
     "execution_count": 158,
     "metadata": {},
     "output_type": "execute_result"
    }
   ],
   "source": [
    "amaz['reviews.text'][2]   #lower case all the alphabet"
   ]
  },
  {
   "cell_type": "code",
   "execution_count": 159,
   "id": "a74b33fe",
   "metadata": {},
   "outputs": [
    {
     "name": "stderr",
     "output_type": "stream",
     "text": [
      "<ipython-input-159-68787fafa7d6>:2: FutureWarning: The default value of regex will change from True to False in a future version.\n",
      "  amaz['reviews.text'] = amaz['reviews.text'].str.replace('[^\\w\\s]','')\n"
     ]
    }
   ],
   "source": [
    "#to remove alphannumeric and space and tab \n",
    "amaz['reviews.text'] = amaz['reviews.text'].str.replace('[^\\w\\s]','')"
   ]
  },
  {
   "cell_type": "code",
   "execution_count": 160,
   "id": "579b321c",
   "metadata": {},
   "outputs": [
    {
     "data": {
      "text/plain": [
       "'inexpensive tablet for him to use and learn on step up from the nabi he was thrilled with it learn how to skype on it already'"
      ]
     },
     "execution_count": 160,
     "metadata": {},
     "output_type": "execute_result"
    }
   ],
   "source": [
    "amaz['reviews.text'][2]\n"
   ]
  },
  {
   "cell_type": "code",
   "execution_count": 162,
   "id": "c3d1aaa4",
   "metadata": {},
   "outputs": [
    {
     "name": "stdout",
     "output_type": "stream",
     "text": [
      "Requirement already satisfied: textBlob in c:\\users\\surendra\\anaconda3\\lib\\site-packages (0.17.1)\n",
      "Requirement already satisfied: nltk>=3.1 in c:\\users\\surendra\\anaconda3\\lib\\site-packages (from textBlob) (3.6.1)\n",
      "Requirement already satisfied: tqdm in c:\\users\\surendra\\anaconda3\\lib\\site-packages (from nltk>=3.1->textBlob) (4.59.0)\n",
      "Requirement already satisfied: regex in c:\\users\\surendra\\anaconda3\\lib\\site-packages (from nltk>=3.1->textBlob) (2021.4.4)\n",
      "Requirement already satisfied: click in c:\\users\\surendra\\anaconda3\\lib\\site-packages (from nltk>=3.1->textBlob) (7.1.2)\n",
      "Requirement already satisfied: joblib in c:\\users\\surendra\\anaconda3\\lib\\site-packages (from nltk>=3.1->textBlob) (1.0.1)\n"
     ]
    }
   ],
   "source": [
    "!pip install textBlob"
   ]
  },
  {
   "cell_type": "code",
   "execution_count": 166,
   "id": "d3662a4d",
   "metadata": {},
   "outputs": [
    {
     "data": {
      "text/plain": [
       "'inexpen tablet for him to use and learn on step up from the nabi he wa thrill with it learn how to skype on it alreadi'"
      ]
     },
     "execution_count": 166,
     "metadata": {},
     "output_type": "execute_result"
    }
   ],
   "source": [
    "st = PorterStemmer() \n",
    "amaz['reviews.text'] = amaz['reviews.text'].apply(lambda x : \" \".join([st.stem(i) for i in x.split()]))\n",
    "amaz['reviews.text'][2]"
   ]
  },
  {
   "cell_type": "code",
   "execution_count": 167,
   "id": "cadc63ec",
   "metadata": {},
   "outputs": [],
   "source": [
    "def senti(x):\n",
    "    return TextBlob(x).sentiment"
   ]
  },
  {
   "cell_type": "code",
   "execution_count": 168,
   "id": "045fc2b7",
   "metadata": {},
   "outputs": [],
   "source": [
    "from textblob import TextBlob\n",
    "amaz['sentiment'] = amaz['reviews.text'].apply(senti)"
   ]
  },
  {
   "cell_type": "code",
   "execution_count": 169,
   "id": "5de21db6",
   "metadata": {},
   "outputs": [
    {
     "data": {
      "text/html": [
       "<div>\n",
       "<style scoped>\n",
       "    .dataframe tbody tr th:only-of-type {\n",
       "        vertical-align: middle;\n",
       "    }\n",
       "\n",
       "    .dataframe tbody tr th {\n",
       "        vertical-align: top;\n",
       "    }\n",
       "\n",
       "    .dataframe thead th {\n",
       "        text-align: right;\n",
       "    }\n",
       "</style>\n",
       "<table border=\"1\" class=\"dataframe\">\n",
       "  <thead>\n",
       "    <tr style=\"text-align: right;\">\n",
       "      <th></th>\n",
       "      <th>asins</th>\n",
       "      <th>brand</th>\n",
       "      <th>categories</th>\n",
       "      <th>reviews.rating</th>\n",
       "      <th>reviews.text</th>\n",
       "      <th>reviews.userCity</th>\n",
       "      <th>reviews.userProvince</th>\n",
       "      <th>reviews.username</th>\n",
       "      <th>sentiment</th>\n",
       "    </tr>\n",
       "  </thead>\n",
       "  <tbody>\n",
       "    <tr>\n",
       "      <th>0</th>\n",
       "      <td>B01AHB9CN2</td>\n",
       "      <td>Amazon</td>\n",
       "      <td>Electronics,iPad &amp; Tablets,All Tablets,Fire Ta...</td>\n",
       "      <td>5.0</td>\n",
       "      <td>thi product so far ha not disappoint my childr...</td>\n",
       "      <td>NaN</td>\n",
       "      <td>NaN</td>\n",
       "      <td>Adapter</td>\n",
       "      <td>(0.3, 0.8)</td>\n",
       "    </tr>\n",
       "    <tr>\n",
       "      <th>1</th>\n",
       "      <td>B01AHB9CN2</td>\n",
       "      <td>Amazon</td>\n",
       "      <td>Electronics,iPad &amp; Tablets,All Tablets,Fire Ta...</td>\n",
       "      <td>5.0</td>\n",
       "      <td>great for beginn or experienc person bought as...</td>\n",
       "      <td>NaN</td>\n",
       "      <td>NaN</td>\n",
       "      <td>truman</td>\n",
       "      <td>(0.65, 0.675)</td>\n",
       "    </tr>\n",
       "  </tbody>\n",
       "</table>\n",
       "</div>"
      ],
      "text/plain": [
       "        asins   brand                                         categories  \\\n",
       "0  B01AHB9CN2  Amazon  Electronics,iPad & Tablets,All Tablets,Fire Ta...   \n",
       "1  B01AHB9CN2  Amazon  Electronics,iPad & Tablets,All Tablets,Fire Ta...   \n",
       "\n",
       "   reviews.rating                                       reviews.text  \\\n",
       "0             5.0  thi product so far ha not disappoint my childr...   \n",
       "1             5.0  great for beginn or experienc person bought as...   \n",
       "\n",
       "   reviews.userCity  reviews.userProvince reviews.username      sentiment  \n",
       "0               NaN                   NaN          Adapter     (0.3, 0.8)  \n",
       "1               NaN                   NaN           truman  (0.65, 0.675)  "
      ]
     },
     "execution_count": 169,
     "metadata": {},
     "output_type": "execute_result"
    }
   ],
   "source": [
    "amaz.head(2)"
   ]
  },
  {
   "cell_type": "code",
   "execution_count": null,
   "id": "fa5b059c",
   "metadata": {},
   "outputs": [],
   "source": []
  }
 ],
 "metadata": {
  "kernelspec": {
   "display_name": "Python 3",
   "language": "python",
   "name": "python3"
  },
  "language_info": {
   "codemirror_mode": {
    "name": "ipython",
    "version": 3
   },
   "file_extension": ".py",
   "mimetype": "text/x-python",
   "name": "python",
   "nbconvert_exporter": "python",
   "pygments_lexer": "ipython3",
   "version": "3.8.8"
  }
 },
 "nbformat": 4,
 "nbformat_minor": 5
}
