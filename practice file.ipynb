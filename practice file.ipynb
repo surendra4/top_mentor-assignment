{
 "cells": [
  {
   "cell_type": "code",
   "execution_count": 1,
   "id": "19efb5b1",
   "metadata": {},
   "outputs": [
    {
     "name": "stdout",
     "output_type": "stream",
     "text": [
      "1\n"
     ]
    }
   ],
   "source": [
    "y=0 \n",
    "y=y+1\n",
    "print(y)"
   ]
  },
  {
   "cell_type": "code",
   "execution_count": 2,
   "id": "a843a017",
   "metadata": {},
   "outputs": [
    {
     "name": "stdout",
     "output_type": "stream",
     "text": [
      "h 0\n",
      "e 1\n",
      "l 2\n",
      "l 3\n",
      "o 4\n",
      "  5\n",
      "s 6\n",
      "u 7\n",
      "r 8\n",
      "i 9\n"
     ]
    }
   ],
   "source": [
    "s = 'hello suri'\n",
    "y= 0\n",
    "for x in s:\n",
    "    print(x,y)\n",
    "    y = y+1"
   ]
  },
  {
   "cell_type": "code",
   "execution_count": 7,
   "id": "d4208aa4",
   "metadata": {},
   "outputs": [
    {
     "name": "stdout",
     "output_type": "stream",
     "text": [
      "i 11\n",
      "l 10\n",
      "a 9\n",
      "w 8\n",
      "i 7\n",
      "d 6\n",
      "  5\n",
      "y 4\n",
      "p 3\n",
      "p 2\n",
      "a 1\n",
      "h 0\n"
     ]
    }
   ],
   "source": [
    "\n",
    "h= \"happy diwali\"\n",
    "t= len(h)-1\n",
    "for i in h[::-1]:\n",
    "    print(i,t)\n",
    "    t=t-1\n",
    "    "
   ]
  },
  {
   "cell_type": "code",
   "execution_count": 8,
   "id": "04880e3f",
   "metadata": {},
   "outputs": [
    {
     "name": "stdout",
     "output_type": "stream",
     "text": [
      "True\n"
     ]
    }
   ],
   "source": [
    "s= 'durga pooja'\n",
    "print('ga' in s)\n"
   ]
  },
  {
   "cell_type": "code",
   "execution_count": 9,
   "id": "e1804057",
   "metadata": {},
   "outputs": [
    {
     "name": "stdout",
     "output_type": "stream",
     "text": [
      "today\n"
     ]
    }
   ],
   "source": [
    "i= input()\n"
   ]
  },
  {
   "cell_type": "code",
   "execution_count": 10,
   "id": "62127675",
   "metadata": {},
   "outputs": [
    {
     "name": "stdout",
     "output_type": "stream",
     "text": [
      "enter your name=suri \n"
     ]
    }
   ],
   "source": [
    "name= input('enter your name=') #input bydefult will be string data type"
   ]
  },
  {
   "cell_type": "code",
   "execution_count": 11,
   "id": "2fcc86b3",
   "metadata": {},
   "outputs": [
    {
     "data": {
      "text/plain": [
       "str"
      ]
     },
     "execution_count": 11,
     "metadata": {},
     "output_type": "execute_result"
    }
   ],
   "source": [
    "type(name)"
   ]
  },
  {
   "cell_type": "code",
   "execution_count": 18,
   "id": "2f613f3e",
   "metadata": {},
   "outputs": [
    {
     "name": "stdout",
     "output_type": "stream",
     "text": [
      "enter your mobile no=7742562446\n",
      "the mobile no is 7742562446\n"
     ]
    }
   ],
   "source": [
    "mobile_no = int(input('enter your mobile no='))\n",
    "print(\"the mobile no is\",mobile_no)"
   ]
  },
  {
   "cell_type": "code",
   "execution_count": 19,
   "id": "ce0a99d2",
   "metadata": {},
   "outputs": [
    {
     "data": {
      "text/plain": [
       "int"
      ]
     },
     "execution_count": 19,
     "metadata": {},
     "output_type": "execute_result"
    }
   ],
   "source": [
    "type(mobile_no)"
   ]
  },
  {
   "cell_type": "code",
   "execution_count": 20,
   "id": "df4245cd",
   "metadata": {},
   "outputs": [
    {
     "data": {
      "text/plain": [
       "float"
      ]
     },
     "execution_count": 20,
     "metadata": {},
     "output_type": "execute_result"
    }
   ],
   "source": [
    "t= 10\n",
    "h= float(t)\n",
    "type(h)"
   ]
  },
  {
   "cell_type": "code",
   "execution_count": 25,
   "id": "e98c8f75",
   "metadata": {},
   "outputs": [
    {
     "name": "stdout",
     "output_type": "stream",
     "text": [
      "enter your age in years=25\n",
      "the agr is 25 years\n"
     ]
    }
   ],
   "source": [
    "age = int(input('enter your age in years='))\n",
    "print(f'the agr is {age} years')"
   ]
  },
  {
   "cell_type": "code",
   "execution_count": 2,
   "id": "79150927",
   "metadata": {},
   "outputs": [
    {
     "name": "stdout",
     "output_type": "stream",
     "text": [
      "enter your city kota\n",
      "kota\n",
      "kota\n"
     ]
    }
   ],
   "source": [
    "city= input('enter your city ')\n",
    "c  = city.lstrip()\n",
    "print(city)\n",
    "print(c)"
   ]
  },
  {
   "cell_type": "code",
   "execution_count": 5,
   "id": "e543d7d5",
   "metadata": {},
   "outputs": [
    {
     "name": "stdout",
     "output_type": "stream",
     "text": [
      "india won the match\n",
      "india loss the match\n"
     ]
    }
   ],
   "source": [
    "s = 'india won the match'\n",
    "s1 = s.replace('won' ,'loss')\n",
    "print(s)\n",
    "print(s1)"
   ]
  },
  {
   "cell_type": "code",
   "execution_count": 16,
   "id": "c026f8a0",
   "metadata": {},
   "outputs": [
    {
     "name": "stdout",
     "output_type": "stream",
     "text": [
      "['pyton-software-foundation']\n"
     ]
    }
   ],
   "source": [
    "k = 'pyton-software-foundation'\n",
    "l =k.split(sep ='_')\n",
    "print(l)"
   ]
  },
  {
   "cell_type": "code",
   "execution_count": 20,
   "id": "5c16ddb8",
   "metadata": {
    "scrolled": true
   },
   "outputs": [
    {
     "name": "stdout",
     "output_type": "stream",
     "text": [
      "10000000's salary is suri and his age is 25\n"
     ]
    }
   ],
   "source": [
    "name= 'suri'\n",
    "salary= 10000000\n",
    "age = 25\n",
    "print(\"{1}'s salary is {0} and his age is {2}\".format(name,salary,age))"
   ]
  },
  {
   "cell_type": "code",
   "execution_count": null,
   "id": "b5eaefab",
   "metadata": {},
   "outputs": [],
   "source": []
  }
 ],
 "metadata": {
  "kernelspec": {
   "display_name": "Python 3",
   "language": "python",
   "name": "python3"
  },
  "language_info": {
   "codemirror_mode": {
    "name": "ipython",
    "version": 3
   },
   "file_extension": ".py",
   "mimetype": "text/x-python",
   "name": "python",
   "nbconvert_exporter": "python",
   "pygments_lexer": "ipython3",
   "version": "3.8.8"
  }
 },
 "nbformat": 4,
 "nbformat_minor": 5
}
