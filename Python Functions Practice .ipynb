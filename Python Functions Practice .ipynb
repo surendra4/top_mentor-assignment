{
 "cells": [
  {
   "cell_type": "markdown",
   "id": "0cc27340",
   "metadata": {},
   "source": [
    "# function and looping"
   ]
  },
  {
   "cell_type": "code",
   "execution_count": 17,
   "id": "d7f13569",
   "metadata": {
    "scrolled": false
   },
   "outputs": [
    {
     "name": "stdout",
     "output_type": "stream",
     "text": [
      "the value of 0item is 4\n",
      "the value of 1item is 6\n",
      "the value of 2item is 9\n",
      "the value of 3item is 4\n",
      "the value of 4item is 5\n"
     ]
    }
   ],
   "source": [
    "l = [4,6,9,4,5]\n",
    "for i,value in enumerate(l):\n",
    "    print('the value of {}item is {}'.format(i,value))"
   ]
  },
  {
   "cell_type": "code",
   "execution_count": 25,
   "id": "ed10e75e",
   "metadata": {},
   "outputs": [
    {
     "name": "stdout",
     "output_type": "stream",
     "text": [
      "one:3, two: 4,three:4\n",
      "one:5, two: 6,three:2\n",
      "one:4, two: 7,three:5\n",
      "one:5, two: 8,three:7\n",
      "one:7, two: 5,three:9\n"
     ]
    }
   ],
   "source": [
    "l_one = [3,5,4,5,7]\n",
    "l_two = [4,6,7,8,5]\n",
    "l_three = [4,2,5,7,9]\n",
    "\n",
    "for one, two, three in zip(l_one,l_two,l_three):\n",
    "    print('one:{}, two: {},three:{}'.format(one,two,three))"
   ]
  },
  {
   "cell_type": "code",
   "execution_count": 30,
   "id": "88a05cd9",
   "metadata": {},
   "outputs": [
    {
     "name": "stdout",
     "output_type": "stream",
     "text": [
      "1\n",
      "2\n",
      "3\n",
      "4\n",
      "5\n",
      "6\n",
      "7\n",
      "8\n",
      "9\n",
      "10\n"
     ]
    }
   ],
   "source": [
    "x=0\n",
    "while x<10:\n",
    "    x += 1\n",
    "    print(x)"
   ]
  },
  {
   "cell_type": "markdown",
   "id": "06124da5",
   "metadata": {},
   "source": [
    "# datatime"
   ]
  },
  {
   "cell_type": "code",
   "execution_count": 33,
   "id": "0a74deeb",
   "metadata": {},
   "outputs": [],
   "source": [
    "import datetime as dt   #import the datatime module "
   ]
  },
  {
   "cell_type": "code",
   "execution_count": 35,
   "id": "fcf16eba",
   "metadata": {},
   "outputs": [
    {
     "name": "stdout",
     "output_type": "stream",
     "text": [
      "2021-12-07 16:18:33.920620\n"
     ]
    }
   ],
   "source": [
    "now = dt.datetime.now()   #assing datatime object representing the current time to now\n",
    "print(now)"
   ]
  },
  {
   "cell_type": "code",
   "execution_count": null,
   "id": "9b60fb59",
   "metadata": {},
   "outputs": [],
   "source": []
  },
  {
   "cell_type": "code",
   "execution_count": null,
   "id": "0a6f506a",
   "metadata": {},
   "outputs": [],
   "source": []
  },
  {
   "cell_type": "markdown",
   "id": "842decaa",
   "metadata": {},
   "source": [
    "# random "
   ]
  },
  {
   "cell_type": "code",
   "execution_count": 44,
   "id": "c79ac3b5",
   "metadata": {},
   "outputs": [
    {
     "data": {
      "text/plain": [
       "0.9842595627647849"
      ]
     },
     "execution_count": 44,
     "metadata": {},
     "output_type": "execute_result"
    }
   ],
   "source": [
    "import random  #import the rendom module\n",
    "random.random() #return a random float b/w 0.0 to 1.0"
   ]
  },
  {
   "cell_type": "code",
   "execution_count": 46,
   "id": "1108aa66",
   "metadata": {},
   "outputs": [
    {
     "data": {
      "text/plain": [
       "18"
      ]
     },
     "execution_count": 46,
     "metadata": {},
     "output_type": "execute_result"
    }
   ],
   "source": [
    "random.randint(10,20) # retunr a random integer b/w 10 and 20"
   ]
  },
  {
   "cell_type": "code",
   "execution_count": 49,
   "id": "c3f880b8",
   "metadata": {},
   "outputs": [
    {
     "data": {
      "text/plain": [
       "23"
      ]
     },
     "execution_count": 49,
     "metadata": {},
     "output_type": "execute_result"
    }
   ],
   "source": [
    "l = [23,43,5,22,55]\n",
    "random.choice(l) #return a random item from l"
   ]
  },
  {
   "cell_type": "code",
   "execution_count": null,
   "id": "a78a67d3",
   "metadata": {},
   "outputs": [],
   "source": [
    "# \n"
   ]
  },
  {
   "cell_type": "code",
   "execution_count": 66,
   "id": "8d0af83e",
   "metadata": {},
   "outputs": [
    {
     "name": "stdout",
     "output_type": "stream",
     "text": [
      "[1.0, 2.0, 3.0, '', 5.0]\n"
     ]
    }
   ],
   "source": [
    "l_ints =[1,2,3,'',5]  #assing a list of interger with one missing value to l_list\n",
    "l_floats = []\n",
    "for i in l_ints:\n",
    "    try:\n",
    "        l_floats.append(float(i))\n",
    "    except:\n",
    "        l_floats.append(i)\n",
    "print(l_floats)"
   ]
  },
  {
   "cell_type": "markdown",
   "id": "f6429ed4",
   "metadata": {},
   "source": [
    "# pandas "
   ]
  },
  {
   "cell_type": "code",
   "execution_count": null,
   "id": "b20827ed",
   "metadata": {},
   "outputs": [],
   "source": [
    "#importing data \n",
    "pd.read_csv(file_name) # from a csv file\n",
    "pd.read_table(file_name) #from a delimited text file(like tsv)\n",
    "pd.read_excel(file_name)\n",
    "pd.read_sql(query,connetion_object)\n",
    "pd.read_json(json)string  #reads from a json formatted,url or file\n",
    "pd.read_html(url) #preses an html url,string or file and extract tables to a list of dataframs\n",
    "pd.read_clipboard()  #take the content ofour clipborad and preses it to read_table()\n",
    "pd.DataFrame(dict)   # from a dict ,keys for column names, value for data as lists \n"
   ]
  },
  {
   "cell_type": "markdown",
   "id": "d8b165d0",
   "metadata": {},
   "source": [
    "# exporting data "
   ]
  },
  {
   "cell_type": "code",
   "execution_count": null,
   "id": "d7621ab1",
   "metadata": {},
   "outputs": [],
   "source": [
    "df.to_csv(filename)  #writes to csv file\n",
    "df.to_excel(filename)  #writes to excel file \n",
    "df.to _sql(table_name, connection_object)  #write to a sql table\n",
    "df.to_json(filename)\n",
    "df.to_html(filename)\n",
    "df.to_clipboard()  #write to the clipboard\n"
   ]
  },
  {
   "cell_type": "markdown",
   "id": "251c6689",
   "metadata": {},
   "source": [
    "# numpy array"
   ]
  },
  {
   "cell_type": "code",
   "execution_count": null,
   "id": "820a1c79",
   "metadata": {},
   "outputs": [],
   "source": []
  },
  {
   "cell_type": "markdown",
   "id": "d2ea1e55",
   "metadata": {},
   "source": [
    "import numpy as np\n",
    "a = np.array([1,2,3,4,6,5])\n",
    "print(type(a))"
   ]
  },
  {
   "cell_type": "code",
   "execution_count": 91,
   "id": "d1a0467e",
   "metadata": {},
   "outputs": [
    {
     "name": "stdout",
     "output_type": "stream",
     "text": [
      "(6,)\n"
     ]
    }
   ],
   "source": [
    "print(a.shape)"
   ]
  },
  {
   "cell_type": "code",
   "execution_count": 92,
   "id": "1a90cf1d",
   "metadata": {},
   "outputs": [
    {
     "name": "stdout",
     "output_type": "stream",
     "text": [
      "1 2 3\n"
     ]
    }
   ],
   "source": [
    "print(a[0],a[1],a[2])"
   ]
  },
  {
   "cell_type": "code",
   "execution_count": 93,
   "id": "243f83cf",
   "metadata": {},
   "outputs": [],
   "source": [
    "a[0]=5"
   ]
  },
  {
   "cell_type": "code",
   "execution_count": 94,
   "id": "c477f9a9",
   "metadata": {},
   "outputs": [
    {
     "name": "stdout",
     "output_type": "stream",
     "text": [
      "[5 2 3 4 6 5]\n"
     ]
    }
   ],
   "source": [
    "print(a)"
   ]
  },
  {
   "cell_type": "code",
   "execution_count": 110,
   "id": "d4b5f96b",
   "metadata": {},
   "outputs": [
    {
     "name": "stdout",
     "output_type": "stream",
     "text": [
      "(2, 3)\n"
     ]
    }
   ],
   "source": [
    "b = np.array([[1,2,3],[4,5,6]])\n",
    "print(b.shape)"
   ]
  },
  {
   "cell_type": "code",
   "execution_count": 111,
   "id": "41349806",
   "metadata": {},
   "outputs": [
    {
     "name": "stdout",
     "output_type": "stream",
     "text": [
      "1 2 4\n"
     ]
    }
   ],
   "source": [
    "print(b[0,0],b[0,1],b[1,0])"
   ]
  },
  {
   "cell_type": "code",
   "execution_count": 112,
   "id": "3efaec72",
   "metadata": {},
   "outputs": [
    {
     "data": {
      "text/plain": [
       "array([[1, 2, 3],\n",
       "       [4, 5, 6]])"
      ]
     },
     "execution_count": 112,
     "metadata": {},
     "output_type": "execute_result"
    }
   ],
   "source": [
    "np.copy(b)"
   ]
  },
  {
   "cell_type": "code",
   "execution_count": 113,
   "id": "5346fb01",
   "metadata": {},
   "outputs": [
    {
     "name": "stdout",
     "output_type": "stream",
     "text": [
      "[[1 2 3]\n",
      " [4 5 6]]\n"
     ]
    }
   ],
   "source": [
    "b.sort()\n",
    "print(b)"
   ]
  },
  {
   "cell_type": "code",
   "execution_count": 123,
   "id": "63672a37",
   "metadata": {
    "scrolled": true
   },
   "outputs": [
    {
     "name": "stdout",
     "output_type": "stream",
     "text": [
      "[[1 2]\n",
      " [3 4]\n",
      " [5 6]]\n"
     ]
    }
   ],
   "source": [
    "b = np.array([[1,2],[3,4],[5,6]])\n",
    "b.reshape(2,3)\n",
    "print(b)"
   ]
  },
  {
   "cell_type": "code",
   "execution_count": 126,
   "id": "712f480a",
   "metadata": {},
   "outputs": [
    {
     "data": {
      "text/plain": [
       "array([1, 2, 3, 4, 5, 6, 6, 8])"
      ]
     },
     "execution_count": 126,
     "metadata": {},
     "output_type": "execute_result"
    }
   ],
   "source": [
    "np.append(b,[6,8])"
   ]
  },
  {
   "cell_type": "code",
   "execution_count": 127,
   "id": "8e003e9d",
   "metadata": {},
   "outputs": [
    {
     "data": {
      "text/plain": [
       "array([1, 2, 3, 4, 5, 6, 7, 8])"
      ]
     },
     "execution_count": 127,
     "metadata": {},
     "output_type": "execute_result"
    }
   ],
   "source": [
    "np.append(b,[7,8])"
   ]
  },
  {
   "cell_type": "code",
   "execution_count": 131,
   "id": "d76ee6af",
   "metadata": {},
   "outputs": [
    {
     "data": {
      "text/plain": [
       "array([[2],\n",
       "       [4],\n",
       "       [6]])"
      ]
     },
     "execution_count": 131,
     "metadata": {},
     "output_type": "execute_result"
    }
   ],
   "source": [
    "np.delete(b,0,axis =1)  #removing              "
   ]
  },
  {
   "cell_type": "code",
   "execution_count": 138,
   "id": "43a12009",
   "metadata": {
    "scrolled": false
   },
   "outputs": [
    {
     "data": {
      "text/plain": [
       "array([[ 1,  2],\n",
       "       [ 3,  4],\n",
       "       [ 5,  6],\n",
       "       [ 8,  9],\n",
       "       [11, 10]])"
      ]
     },
     "execution_count": 138,
     "metadata": {},
     "output_type": "execute_result"
    }
   ],
   "source": [
    "a= np.array([[8,9],[11,10]])\n",
    "b= np.array([[1,2],[3,4],[5,6]])\n",
    "np.concatenate((b,a),axis =0)"
   ]
  },
  {
   "cell_type": "code",
   "execution_count": 141,
   "id": "6283fd36",
   "metadata": {
    "scrolled": true
   },
   "outputs": [
    {
     "data": {
      "text/plain": [
       "[array([[1, 2]]), array([[3, 4]]), array([[5, 6]])]"
      ]
     },
     "execution_count": 141,
     "metadata": {},
     "output_type": "execute_result"
    }
   ],
   "source": [
    "np.split(b,3)\n"
   ]
  },
  {
   "cell_type": "code",
   "execution_count": 148,
   "id": "f2b04453",
   "metadata": {
    "scrolled": true
   },
   "outputs": [
    {
     "name": "stdout",
     "output_type": "stream",
     "text": [
      "[[5 9]\n",
      " [3 4]\n",
      " [5 6]]\n"
     ]
    }
   ],
   "source": [
    "#indexing\n",
    "b[0]=[5,9]\n",
    "print(b)\n"
   ]
  },
  {
   "cell_type": "code",
   "execution_count": null,
   "id": "553b6a77",
   "metadata": {},
   "outputs": [],
   "source": [
    "\n"
   ]
  }
 ],
 "metadata": {
  "kernelspec": {
   "display_name": "Python 3",
   "language": "python",
   "name": "python3"
  },
  "language_info": {
   "codemirror_mode": {
    "name": "ipython",
    "version": 3
   },
   "file_extension": ".py",
   "mimetype": "text/x-python",
   "name": "python",
   "nbconvert_exporter": "python",
   "pygments_lexer": "ipython3",
   "version": "3.8.8"
  }
 },
 "nbformat": 4,
 "nbformat_minor": 5
}
