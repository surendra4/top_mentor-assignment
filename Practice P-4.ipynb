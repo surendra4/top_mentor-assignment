{
 "cells": [
  {
   "cell_type": "code",
   "execution_count": 1,
   "id": "0484b831",
   "metadata": {},
   "outputs": [
    {
     "name": "stdout",
     "output_type": "stream",
     "text": [
      "A = 70\n",
      "B = 80\n",
      "C = 90\n",
      "D = 95\n",
      "E = 75\n"
     ]
    }
   ],
   "source": [
    "student_name = {'A' : 70,'B': 80,'C':90,'D':95,'E':75}\n",
    "student_name.keys()\n",
    "student_name.values()\n",
    "\n",
    "for i in student_name.keys():\n",
    "    print(i,\"=\",student_name[i])\n"
   ]
  },
  {
   "cell_type": "code",
   "execution_count": 2,
   "id": "6a2e1c64",
   "metadata": {},
   "outputs": [
    {
     "data": {
      "text/plain": [
       "80"
      ]
     },
     "execution_count": 2,
     "metadata": {},
     "output_type": "execute_result"
    }
   ],
   "source": [
    "student_name['B']"
   ]
  },
  {
   "cell_type": "code",
   "execution_count": 3,
   "id": "0244402b",
   "metadata": {},
   "outputs": [
    {
     "data": {
      "text/plain": [
       "dict_items([('A', 70), ('B', 80), ('C', 90), ('D', 95), ('E', 75)])"
      ]
     },
     "execution_count": 3,
     "metadata": {},
     "output_type": "execute_result"
    }
   ],
   "source": [
    "student_name.items()"
   ]
  },
  {
   "cell_type": "code",
   "execution_count": 4,
   "id": "fbf3f6d1",
   "metadata": {},
   "outputs": [
    {
     "name": "stdout",
     "output_type": "stream",
     "text": [
      "A 70\n",
      "B 80\n",
      "C 90\n",
      "D 95\n",
      "E 75\n"
     ]
    }
   ],
   "source": [
    "for k,v in student_name.items():\n",
    "    print(k,v)"
   ]
  },
  {
   "cell_type": "code",
   "execution_count": 5,
   "id": "e8452434",
   "metadata": {},
   "outputs": [
    {
     "data": {
      "text/plain": [
       "{'A': 70, 'B': 80, 'C': 90, 'D': 95, 'E': 75}"
      ]
     },
     "execution_count": 5,
     "metadata": {},
     "output_type": "execute_result"
    }
   ],
   "source": [
    "student_name.copy()"
   ]
  },
  {
   "cell_type": "code",
   "execution_count": 6,
   "id": "378035a3",
   "metadata": {},
   "outputs": [
    {
     "data": {
      "text/plain": [
       "20"
      ]
     },
     "execution_count": 6,
     "metadata": {},
     "output_type": "execute_result"
    }
   ],
   "source": [
    "10 and 20\n"
   ]
  },
  {
   "cell_type": "code",
   "execution_count": 7,
   "id": "7317f8ec",
   "metadata": {},
   "outputs": [
    {
     "data": {
      "text/plain": [
       "0"
      ]
     },
     "execution_count": 7,
     "metadata": {},
     "output_type": "execute_result"
    }
   ],
   "source": [
    "0 and 20\n"
   ]
  },
  {
   "cell_type": "code",
   "execution_count": 8,
   "id": "f1223fa1",
   "metadata": {},
   "outputs": [
    {
     "data": {
      "text/plain": [
       "''"
      ]
     },
     "execution_count": 8,
     "metadata": {},
     "output_type": "execute_result"
    }
   ],
   "source": [
    "'' and 20"
   ]
  },
  {
   "cell_type": "code",
   "execution_count": 9,
   "id": "89debbe5",
   "metadata": {},
   "outputs": [
    {
     "data": {
      "text/plain": [
       "10"
      ]
     },
     "execution_count": 9,
     "metadata": {},
     "output_type": "execute_result"
    }
   ],
   "source": [
    "10 or 20\n"
   ]
  },
  {
   "cell_type": "code",
   "execution_count": 10,
   "id": "97d1bf8f",
   "metadata": {},
   "outputs": [
    {
     "data": {
      "text/plain": [
       "20"
      ]
     },
     "execution_count": 10,
     "metadata": {},
     "output_type": "execute_result"
    }
   ],
   "source": [
    "0 or 20"
   ]
  },
  {
   "cell_type": "code",
   "execution_count": 13,
   "id": "cb0fe287",
   "metadata": {},
   "outputs": [
    {
     "name": "stdout",
     "output_type": "stream",
     "text": [
      "first number67\n",
      "second number45\n",
      "third number98\n",
      "45\n"
     ]
    }
   ],
   "source": [
    "a = int(input('first number'))\n",
    "b = int(input('second number'))\n",
    "c = int(input('third number'))\n",
    "\n",
    "min_= a if a<b and b<c else b if b<c else c\n",
    "print(min_)"
   ]
  },
  {
   "cell_type": "code",
   "execution_count": 16,
   "id": "a3d68882",
   "metadata": {},
   "outputs": [
    {
     "name": "stdout",
     "output_type": "stream",
     "text": [
      "0 s\n",
      "1 u\n",
      "2 r\n",
      "3 e\n",
      "4 n\n",
      "5 d\n",
      "6 r\n",
      "7 a\n",
      "8  \n",
      "9 u\n",
      "10 p\n",
      "11 a\n",
      "12 d\n",
      "13 h\n",
      "14 y\n",
      "15 a\n",
      "16 y\n"
     ]
    }
   ],
   "source": [
    "j = 0\n",
    "k = 'surendra upadhyay'\n",
    "for i in k:\n",
    "    print(j,i)\n",
    "    j += 1"
   ]
  },
  {
   "cell_type": "code",
   "execution_count": 38,
   "id": "d51e5ee5",
   "metadata": {
    "scrolled": true
   },
   "outputs": [
    {
     "name": "stdout",
     "output_type": "stream",
     "text": [
      "0\n",
      "1\n",
      "2\n",
      "3\n",
      "4\n",
      "5\n",
      "6\n",
      "7\n",
      "8\n"
     ]
    }
   ],
   "source": [
    "\n",
    "for i in range(9\n",
    "              ):\n",
    "    print(i)"
   ]
  },
  {
   "cell_type": "code",
   "execution_count": 49,
   "id": "3fcf7043",
   "metadata": {},
   "outputs": [
    {
     "name": "stdout",
     "output_type": "stream",
     "text": [
      "the sum is: 46\n",
      "the sub is : -22\n"
     ]
    }
   ],
   "source": [
    "def sum_sub(a,b):\n",
    "    sum = a+b\n",
    "    sub = a-b\n",
    "    return sum,sub\n",
    "x ,y = sum_sub(12,34)\n",
    "print('the sum is:',x)\n",
    "print('the sub is :',y)"
   ]
  },
  {
   "cell_type": "code",
   "execution_count": 42,
   "id": "7a2f2bbc",
   "metadata": {},
   "outputs": [
    {
     "data": {
      "text/plain": [
       "(34, -12)"
      ]
     },
     "execution_count": 42,
     "metadata": {},
     "output_type": "execute_result"
    }
   ],
   "source": [
    "sum_sub(11,23)"
   ]
  },
  {
   "cell_type": "code",
   "execution_count": 53,
   "id": "49145bc4",
   "metadata": {},
   "outputs": [
    {
     "name": "stdout",
     "output_type": "stream",
     "text": [
      "hello suri,happy birthday you are now 25\n"
     ]
    }
   ],
   "source": [
    "def wish (name,age):\n",
    "    print('hello',name,age)\n",
    "wish(name = 'suri,happy birthday', age = \"you are now 25\")"
   ]
  },
  {
   "cell_type": "code",
   "execution_count": 65,
   "id": "3857488e",
   "metadata": {},
   "outputs": [],
   "source": [
    "def a1(**kwargs):\n",
    "    print(kwargs)"
   ]
  },
  {
   "cell_type": "code",
   "execution_count": 66,
   "id": "46d09009",
   "metadata": {},
   "outputs": [
    {
     "name": "stdout",
     "output_type": "stream",
     "text": [
      "{'car': 'suzuyki', 'mpg': 45, 'year': 2002}\n"
     ]
    }
   ],
   "source": [
    "a1(car= 'suzuyki' , mpg =45, year =2002)"
   ]
  },
  {
   "cell_type": "code",
   "execution_count": 68,
   "id": "4a19f14a",
   "metadata": {},
   "outputs": [],
   "source": [
    "s = lambda a,b :a if a>b else b"
   ]
  },
  {
   "cell_type": "code",
   "execution_count": 71,
   "id": "9389fd3a",
   "metadata": {},
   "outputs": [
    {
     "data": {
      "text/plain": [
       "45"
      ]
     },
     "execution_count": 71,
     "metadata": {},
     "output_type": "execute_result"
    }
   ],
   "source": [
    "s(23,45)"
   ]
  },
  {
   "cell_type": "code",
   "execution_count": 72,
   "id": "fc61d1db",
   "metadata": {},
   "outputs": [],
   "source": [
    "import pandas as pd"
   ]
  },
  {
   "cell_type": "code",
   "execution_count": 88,
   "id": "257b4497",
   "metadata": {},
   "outputs": [
    {
     "data": {
      "text/plain": [
       "([12, 34, 56, 78, 90, 13, 1, 4, 45, 677], list)"
      ]
     },
     "execution_count": 88,
     "metadata": {},
     "output_type": "execute_result"
    }
   ],
   "source": [
    "l =[12,34,56,78,90,13,1,4,45,677]\n",
    "l ,type(l)\n"
   ]
  },
  {
   "cell_type": "code",
   "execution_count": 89,
   "id": "531e9f2f",
   "metadata": {},
   "outputs": [
    {
     "data": {
      "text/plain": [
       "(0     12\n",
       " 1     34\n",
       " 2     56\n",
       " 3     78\n",
       " 4     90\n",
       " 5     13\n",
       " 6      1\n",
       " 7      4\n",
       " 8     45\n",
       " 9    677\n",
       " dtype: int64,\n",
       " pandas.core.series.Series)"
      ]
     },
     "execution_count": 89,
     "metadata": {},
     "output_type": "execute_result"
    }
   ],
   "source": [
    "s = pd.Series(l)\n",
    "s,type(s)"
   ]
  },
  {
   "cell_type": "code",
   "execution_count": 91,
   "id": "72a5ccd0",
   "metadata": {},
   "outputs": [
    {
     "data": {
      "text/html": [
       "<div>\n",
       "<style scoped>\n",
       "    .dataframe tbody tr th:only-of-type {\n",
       "        vertical-align: middle;\n",
       "    }\n",
       "\n",
       "    .dataframe tbody tr th {\n",
       "        vertical-align: top;\n",
       "    }\n",
       "\n",
       "    .dataframe thead th {\n",
       "        text-align: right;\n",
       "    }\n",
       "</style>\n",
       "<table border=\"1\" class=\"dataframe\">\n",
       "  <thead>\n",
       "    <tr style=\"text-align: right;\">\n",
       "      <th></th>\n",
       "      <th>0</th>\n",
       "    </tr>\n",
       "  </thead>\n",
       "  <tbody>\n",
       "    <tr>\n",
       "      <th>0</th>\n",
       "      <td>12</td>\n",
       "    </tr>\n",
       "    <tr>\n",
       "      <th>1</th>\n",
       "      <td>34</td>\n",
       "    </tr>\n",
       "    <tr>\n",
       "      <th>2</th>\n",
       "      <td>56</td>\n",
       "    </tr>\n",
       "    <tr>\n",
       "      <th>3</th>\n",
       "      <td>78</td>\n",
       "    </tr>\n",
       "    <tr>\n",
       "      <th>4</th>\n",
       "      <td>90</td>\n",
       "    </tr>\n",
       "    <tr>\n",
       "      <th>5</th>\n",
       "      <td>13</td>\n",
       "    </tr>\n",
       "    <tr>\n",
       "      <th>6</th>\n",
       "      <td>1</td>\n",
       "    </tr>\n",
       "    <tr>\n",
       "      <th>7</th>\n",
       "      <td>4</td>\n",
       "    </tr>\n",
       "    <tr>\n",
       "      <th>8</th>\n",
       "      <td>45</td>\n",
       "    </tr>\n",
       "    <tr>\n",
       "      <th>9</th>\n",
       "      <td>677</td>\n",
       "    </tr>\n",
       "  </tbody>\n",
       "</table>\n",
       "</div>"
      ],
      "text/plain": [
       "     0\n",
       "0   12\n",
       "1   34\n",
       "2   56\n",
       "3   78\n",
       "4   90\n",
       "5   13\n",
       "6    1\n",
       "7    4\n",
       "8   45\n",
       "9  677"
      ]
     },
     "execution_count": 91,
     "metadata": {},
     "output_type": "execute_result"
    }
   ],
   "source": [
    "d = pd.DataFrame(l)\n",
    "d"
   ]
  },
  {
   "cell_type": "code",
   "execution_count": null,
   "id": "70774368",
   "metadata": {},
   "outputs": [],
   "source": []
  },
  {
   "cell_type": "code",
   "execution_count": null,
   "id": "07b34563",
   "metadata": {},
   "outputs": [],
   "source": []
  },
  {
   "cell_type": "code",
   "execution_count": null,
   "id": "b4d910b1",
   "metadata": {},
   "outputs": [],
   "source": []
  },
  {
   "cell_type": "code",
   "execution_count": null,
   "id": "c75d3a0d",
   "metadata": {},
   "outputs": [],
   "source": [
    "\n",
    "\n",
    "\n",
    "\n",
    "\n"
   ]
  }
 ],
 "metadata": {
  "kernelspec": {
   "display_name": "Python 3",
   "language": "python",
   "name": "python3"
  },
  "language_info": {
   "codemirror_mode": {
    "name": "ipython",
    "version": 3
   },
   "file_extension": ".py",
   "mimetype": "text/x-python",
   "name": "python",
   "nbconvert_exporter": "python",
   "pygments_lexer": "ipython3",
   "version": "3.8.8"
  }
 },
 "nbformat": 4,
 "nbformat_minor": 5
}
