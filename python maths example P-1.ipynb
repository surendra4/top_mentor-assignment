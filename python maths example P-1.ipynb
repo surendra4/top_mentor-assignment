{
 "cells": [
  {
   "cell_type": "code",
   "execution_count": null,
   "id": "f80e0cb4",
   "metadata": {},
   "outputs": [],
   "source": [
    "#PYTHON EXAMPLE"
   ]
  },
  {
   "cell_type": "code",
   "execution_count": 1,
   "id": "8684354f",
   "metadata": {},
   "outputs": [
    {
     "name": "stdout",
     "output_type": "stream",
     "text": [
      "inter your in kilometer:4\n",
      "4.00 kilometer is eual to 2.48 milies\n"
     ]
    }
   ],
   "source": [
    "#convert kilometer in miles\n",
    "kilometer = float(input('inter your in kilometer:'))\n",
    "conv_fac = .621\n",
    "miles = kilometer*conv_fac\n",
    "print('%0.2f kilometer is eual to %0.2f milies'%(kilometer,miles))"
   ]
  },
  {
   "cell_type": "code",
   "execution_count": 2,
   "id": "75a3d47d",
   "metadata": {
    "scrolled": true
   },
   "outputs": [
    {
     "name": "stdout",
     "output_type": "stream",
     "text": [
      ".37.5 degree celsius is eual to 99.5 degree fahrenheit\n"
     ]
    }
   ],
   "source": [
    "#convert celsius to fohrenheit\n",
    "celsius = 37.5\n",
    "fahrenheit = (celsius*1.8)+32\n",
    "print('.%0.1f degree celsius is eual to %0.1f degree fahrenheit' %(celsius,fahrenheit))"
   ]
  },
  {
   "cell_type": "code",
   "execution_count": 3,
   "id": "3c6f5eb3",
   "metadata": {},
   "outputs": [
    {
     "name": "stdout",
     "output_type": "stream",
     "text": [
      "enter a number:6\n",
      "positive number\n"
     ]
    }
   ],
   "source": [
    "#to know about positive negetiv numbers\n",
    "num = float(input('enter a number:'))\n",
    "if num >0:\n",
    "    print ('positive number')\n",
    "elif num ==0 :\n",
    "    print('zero')\n",
    "else:\n",
    "    print('negative number')"
   ]
  },
  {
   "cell_type": "code",
   "execution_count": 4,
   "id": "91c8ddc9",
   "metadata": {},
   "outputs": [
    {
     "name": "stdout",
     "output_type": "stream",
     "text": [
      "enter a number:3\n",
      "3 is odd\n"
     ]
    }
   ],
   "source": [
    "#odd even number\n",
    "num = int(input('enter a number:'))\n",
    "if(num%2) == 0 :\n",
    "    print('{0} is even'.format(num))\n",
    "else:\n",
    "    print('{0} is odd'.format(num))"
   ]
  },
  {
   "cell_type": "code",
   "execution_count": 5,
   "id": "b5f1692d",
   "metadata": {},
   "outputs": [
    {
     "name": "stdout",
     "output_type": "stream",
     "text": [
      "the given year:2020\n",
      "2020 is not a leap year\n"
     ]
    }
   ],
   "source": [
    "#to check leap year\n",
    "year = int(input('the given year:')) \n",
    "if (year%4)==0:\n",
    "    if(year %4)==0:\n",
    "        if(year%400)==0:\n",
    "            print('{0} is a leap year'.format(year))\n",
    "        else:\n",
    "            print('{0} is not a leap year'.format(year))\n",
    "    else:\n",
    "        print('{} is not a leap year'.format(year))\n",
    "else:\n",
    "    ('{0} is not a leap year'.format(year))    "
   ]
  },
  {
   "cell_type": "code",
   "execution_count": null,
   "id": "6f413fd9",
   "metadata": {},
   "outputs": [],
   "source": [
    "#find largest in given 3 numbers\n",
    "num1 = float(input('enter first number:'))\n",
    "num2 = float(input('enter second number:'))\n",
    "num3 = float(input('enter third number:'))\n",
    "if (num1>=num2) and (num1>=num3):\n",
    "    largest  = num1\n",
    "elif(num2>=num1)and(num2>=num3):\n",
    "    largest = num2\n",
    "else:\n",
    "    largest = num3\n",
    "print('the largest num is ',largest)"
   ]
  },
  {
   "cell_type": "code",
   "execution_count": 6,
   "id": "e8476af1",
   "metadata": {},
   "outputs": [
    {
     "name": "stdout",
     "output_type": "stream",
     "text": [
      "enter a number:79\n",
      "79 is prime number\n"
     ]
    }
   ],
   "source": [
    "#to chack prime number\n",
    "num = int(input('enter a number:'))\n",
    "if num>1:\n",
    "    for i in range(2,num):\n",
    "        if(num%i)==0:\n",
    "            print(num,\"is not prime number\")\n",
    "          \n",
    "            break\n",
    "    else:\n",
    "        print(num, 'is prime number')\n",
    "else:\n",
    "    print(num,'is not prime number')"
   ]
  },
  {
   "cell_type": "code",
   "execution_count": null,
   "id": "2f706bc7",
   "metadata": {
    "scrolled": true
   },
   "outputs": [],
   "source": [
    "#prime number in an interval \n",
    "lower = 100\n",
    "upper = 200\n",
    " \n",
    "print('prime number between', lower,\"and\",upper,\"are.\")\n",
    "\n",
    "for num in range (lower,upper+1):\n",
    "    if num >1:\n",
    "        for i in range (2,num):\n",
    "            if(num%i)==0:\n",
    "                break\n",
    "        else:\n",
    "            print(num)\n"
   ]
  },
  {
   "cell_type": "code",
   "execution_count": 7,
   "id": "0eecac9d",
   "metadata": {},
   "outputs": [
    {
     "name": "stdout",
     "output_type": "stream",
     "text": [
      "enter a number:8\n",
      "the factorial of 8 is 40320\n"
     ]
    }
   ],
   "source": [
    "#to fnd factorial numbers\n",
    "num = int(input('enter a number:'))\n",
    "factorial = 1\n",
    "if num<0:\n",
    "        print(\"sorry, factorial does not exits for nergstive numbers\")\n",
    "elif num == 0 :\n",
    "    print(\"the factorial of 0 iS 1\")\n",
    "else:\n",
    "    for i in range(2,num+1):\n",
    "        factorial = factorial*i\n",
    "    print('the factorial of',num,'is',factorial)"
   ]
  },
  {
   "cell_type": "code",
   "execution_count": 8,
   "id": "ba78c99f",
   "metadata": {},
   "outputs": [
    {
     "name": "stdout",
     "output_type": "stream",
     "text": [
      "enter a number:10\n",
      "10 x 1 : 10\n",
      "10 x 2 : 20\n",
      "10 x 3 : 30\n",
      "10 x 4 : 40\n",
      "10 x 5 : 50\n",
      "10 x 6 : 60\n",
      "10 x 7 : 70\n",
      "10 x 8 : 80\n",
      "10 x 9 : 90\n",
      "10 x 10 : 100\n"
     ]
    }
   ],
   "source": [
    "#TO SHOW MULTIPILCATION TABLE\n",
    "num = int(input('enter a number:'))\n",
    "\n",
    "for i in range (1,11):\n",
    "    print(num ,\"x\", i,':',num*i)"
   ]
  },
  {
   "cell_type": "code",
   "execution_count": 9,
   "id": "09f8e152",
   "metadata": {},
   "outputs": [
    {
     "name": "stdout",
     "output_type": "stream",
     "text": [
      "how much terms?8\n",
      "fibonacci sequence:\n",
      "0\n",
      "1\n",
      "1\n",
      "2\n",
      "3\n",
      "5\n",
      "8\n",
      "13\n"
     ]
    }
   ],
   "source": [
    "#TO DISPLAY THE FIBONACCI SEQUENCE UO TP N-TH TERM\n",
    "nterms = int(input('how much terms?'))\n",
    "n1, n2 = 0,1\n",
    "count =0 \n",
    "if nterms <=0:\n",
    "    print('please enter a positive interger')\n",
    "elif nterms==1:\n",
    "    print('fib0nacci sequence upto',nterms,':')\n",
    "    print(n1)\n",
    "else:\n",
    "    print('fibonacci sequence:')\n",
    "    while count < nterms:\n",
    "        print(n1)\n",
    "        nth = n1+n2\n",
    "        n1 =n2\n",
    "        n2 = nth\n",
    "        count+= 1"
   ]
  },
  {
   "cell_type": "code",
   "execution_count": 17,
   "id": "b3dec7ab",
   "metadata": {},
   "outputs": [
    {
     "name": "stdout",
     "output_type": "stream",
     "text": [
      "enter a number:153\n",
      "153  is an armstrong number\n"
     ]
    }
   ],
   "source": [
    "#to check the nomber is armstrong or not\n",
    "num = int(input('enter a number:'))\n",
    "sum = 0\n",
    "temp = num\n",
    "while temp >0:\n",
    "    digit = temp%10\n",
    "    sum += digit**3\n",
    "    temp//= 10\n",
    "if num ==sum:\n",
    "    print(num,' is an armstrong number')\n",
    "else:\n",
    "    print(num,'is not armstrong number')"
   ]
  },
  {
   "cell_type": "code",
   "execution_count": null,
   "id": "63ec2354",
   "metadata": {},
   "outputs": [],
   "source": []
  },
  {
   "cell_type": "code",
   "execution_count": null,
   "id": "7a5fb088",
   "metadata": {},
   "outputs": [],
   "source": []
  },
  {
   "cell_type": "code",
   "execution_count": null,
   "id": "24774410",
   "metadata": {},
   "outputs": [],
   "source": []
  },
  {
   "cell_type": "code",
   "execution_count": null,
   "id": "52f74d53",
   "metadata": {},
   "outputs": [],
   "source": []
  },
  {
   "cell_type": "code",
   "execution_count": null,
   "id": "e6d28b1a",
   "metadata": {},
   "outputs": [],
   "source": []
  },
  {
   "cell_type": "code",
   "execution_count": null,
   "id": "723dd47f",
   "metadata": {},
   "outputs": [],
   "source": []
  },
  {
   "cell_type": "code",
   "execution_count": null,
   "id": "f32f2ae6",
   "metadata": {},
   "outputs": [],
   "source": []
  }
 ],
 "metadata": {
  "kernelspec": {
   "display_name": "Python 3",
   "language": "python",
   "name": "python3"
  },
  "language_info": {
   "codemirror_mode": {
    "name": "ipython",
    "version": 3
   },
   "file_extension": ".py",
   "mimetype": "text/x-python",
   "name": "python",
   "nbconvert_exporter": "python",
   "pygments_lexer": "ipython3",
   "version": "3.8.8"
  }
 },
 "nbformat": 4,
 "nbformat_minor": 5
}
