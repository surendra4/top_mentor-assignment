{
 "cells": [
  {
   "cell_type": "code",
   "execution_count": 1,
   "id": "1d5e9954",
   "metadata": {},
   "outputs": [
    {
     "name": "stdout",
     "output_type": "stream",
     "text": [
      "entera number: 8\n",
      "('the sun is:', 36)\n"
     ]
    }
   ],
   "source": [
    "#find the sum of natural numbers\n",
    "num = int(input('entera number: '))\n",
    "if num < 0 :\n",
    "        print('enter a positive number')\n",
    "else:\n",
    "    sum = 0\n",
    "    #using while loop to itrate until  zero\n",
    "    while (num>0):\n",
    "        sum += num \n",
    "        num  -=  1\n",
    "    print(('the sun is:', sum))"
   ]
  },
  {
   "cell_type": "code",
   "execution_count": 2,
   "id": "7ebafebc",
   "metadata": {
    "scrolled": true
   },
   "outputs": [
    {
     "name": "stdout",
     "output_type": "stream",
     "text": [
      "how many terms: 8\n",
      "the total terms are: 8\n",
      "2 raised to power 0 is 1\n",
      "2 raised to power 1 is 2\n",
      "2 raised to power 2 is 4\n",
      "2 raised to power 3 is 8\n",
      "2 raised to power 4 is 16\n",
      "2 raised to power 5 is 32\n",
      "2 raised to power 6 is 64\n",
      "2 raised to power 7 is 128\n"
     ]
    }
   ],
   "source": [
    "# power of 2 using annonymos function \n",
    "terms =int(input('how many terms: '))\n",
    "result = list(map(lambda x: 2**x,range(terms)))\n",
    "print('the total terms are:',terms)\n",
    "for i in range (terms):\n",
    "    print('2 raised to power',i,'is',result[i])"
   ]
  },
  {
   "cell_type": "code",
   "execution_count": 3,
   "id": "e183e04e",
   "metadata": {},
   "outputs": [
    {
     "name": "stdout",
     "output_type": "stream",
     "text": [
      "number divisible by 13 is: [65, 91, 221]\n"
     ]
    }
   ],
   "source": [
    "#find number divisible by other another number\n",
    "my_list = [12,65,55,54,102,339,91,221]\n",
    "result = list(filter(lambda x :(x%13 ==0),my_list))\n",
    "print('number divisible by 13 is:', result)"
   ]
  },
  {
   "cell_type": "code",
   "execution_count": 4,
   "id": "237f63ad",
   "metadata": {
    "scrolled": true
   },
   "outputs": [
    {
     "name": "stdout",
     "output_type": "stream",
     "text": [
      "inter decimal number:88\n",
      "0b1011000 is binary number.\n",
      "0o130 is octal number.\n",
      "0x58 is hexadecimal number.\n"
     ]
    }
   ],
   "source": [
    "#convert deciaml no. in binary and other from\n",
    "dec = int(input('inter decimal number:'))\n",
    "print(bin(dec),'is binary number.')\n",
    "print(oct(dec),'is octal number.')\n",
    "print(hex(dec), 'is hexadecimal number.')"
   ]
  },
  {
   "cell_type": "code",
   "execution_count": 5,
   "id": "86ab9f56",
   "metadata": {},
   "outputs": [
    {
     "name": "stdout",
     "output_type": "stream",
     "text": [
      "enter first number:56\n",
      "enter second number46\n",
      "the hcf is  2\n"
     ]
    }
   ],
   "source": [
    "#find hcf of two numbers\n",
    "def compute_hcf(x,y):\n",
    "    \n",
    "    if x>y:\n",
    "        smaller = y\n",
    "    else:\n",
    "        smaller = x\n",
    "    for i in range(1,smaller+1):\n",
    "        if((x%i==0) and (y%i ==0)):\n",
    "            hcf =i\n",
    "    return hcf\n",
    "num1= int(input('enter first number:'))\n",
    "num2= int(input('enter second number'))\n",
    "\n",
    "print('the hcf is ', compute_hcf(num1,num2))\n"
   ]
  },
  {
   "cell_type": "code",
   "execution_count": 6,
   "id": "ea013156",
   "metadata": {},
   "outputs": [
    {
     "name": "stdout",
     "output_type": "stream",
     "text": [
      "enter first number:44\n",
      "enter second number33\n",
      "the lcm is  132\n"
     ]
    }
   ],
   "source": [
    "#find lcm of two numbers\n",
    "def compute_lcm(x,y):\n",
    "    \n",
    "    if x>y:\n",
    "        greater = x\n",
    "    else:\n",
    "        greater = y\n",
    "    while(True):\n",
    "        if((greater % x ==0) and (greater % y ==0)):\n",
    "            lcm = greater\n",
    "            break\n",
    "        greater += 1\n",
    "    return lcm\n",
    "\n",
    "num1= int(input('enter first number:'))\n",
    "num2= int(input('enter second number'))\n",
    "\n",
    "print('the lcm is ', compute_lcm(num1,num2))"
   ]
  },
  {
   "cell_type": "code",
   "execution_count": 7,
   "id": "d865b413",
   "metadata": {},
   "outputs": [
    {
     "name": "stdout",
     "output_type": "stream",
     "text": [
      "the number is:456\n",
      "the factor of  456 are:\n",
      "1\n",
      "2\n",
      "3\n",
      "4\n",
      "6\n",
      "8\n",
      "12\n",
      "19\n",
      "24\n",
      "38\n",
      "57\n",
      "76\n",
      "114\n",
      "152\n",
      "228\n",
      "456\n"
     ]
    }
   ],
   "source": [
    "#factor of a number\n",
    "def print_factor(a):\n",
    "    print('the factor of ',a ,'are:')\n",
    "    for i in range(1,a+1):\n",
    "        if a%i==0:\n",
    "             print(i)\n",
    "num = int(input('the number is:'))\n",
    "print_factor(num)"
   ]
  },
  {
   "cell_type": "code",
   "execution_count": 4,
   "id": "caeced0a",
   "metadata": {},
   "outputs": [
    {
     "name": "stdout",
     "output_type": "stream",
     "text": [
      "[17, 15, 4]\n",
      "[10, 12, 9]\n",
      "[11, 13, 18]\n"
     ]
    }
   ],
   "source": [
    "##### ADDING TWO MATRIX \n",
    "\n",
    "x =[[12,7,3],\n",
    "   [4,5,6],\n",
    "   [7,8,9]]\n",
    "y= [[5,8,1],\n",
    "   [6,7,3],\n",
    "   [4,5,9]]\n",
    "\n",
    "result = [[0,0,0],\n",
    "         [0,0,0],\n",
    "         [0,0,0]]\n",
    "\n",
    "for i in range(len(x)):\n",
    "    for j in range(len(x[0])):\n",
    "        result[i][j] = x[i][j] +y[i][j]\n",
    "\n",
    "for r in result:\n",
    "    print(r)\n",
    "    "
   ]
  },
  {
   "cell_type": "code",
   "execution_count": 5,
   "id": "aae9a851",
   "metadata": {},
   "outputs": [
    {
     "name": "stdout",
     "output_type": "stream",
     "text": [
      "3\n"
     ]
    }
   ],
   "source": [
    "x =[[12,7,3],\n",
    "   [4,5,6],\n",
    "   [7,8,9]]\n",
    "print(len(x))"
   ]
  },
  {
   "cell_type": "code",
   "execution_count": 7,
   "id": "5da029d0",
   "metadata": {},
   "outputs": [
    {
     "name": "stdout",
     "output_type": "stream",
     "text": [
      "[114, 160, 60, 27]\n",
      "[74, 97, 73, 14]\n",
      "[119, 157, 112, 23]\n"
     ]
    }
   ],
   "source": [
    "#to multiply two matrix\n",
    "x =[[12,7,3],\n",
    "   [4,5,6],\n",
    "   [7,8,9]]\n",
    "\n",
    "y = y= [[5,8,1,2],\n",
    "   [6,7,3,0],\n",
    "   [4,5,9,1]]\n",
    "\n",
    "#result is 3x4\n",
    "\n",
    "result = [[0,0,0,0],\n",
    "         [0,0,0,0],\n",
    "         [0,0,0,0]]\n",
    "\n",
    "for i in range(len(x)):\n",
    "    for j in range(len(y[0])):\n",
    "        for k in range(len(y)):\n",
    "            result[i][j] += x[i][k]*y[k][j]\n",
    "    \n",
    "for r in result:\n",
    "    print(r)\n",
    "    \n",
    "\n",
    "\n",
    "\n"
   ]
  },
  {
   "cell_type": "code",
   "execution_count": 12,
   "id": "bbe3791f",
   "metadata": {},
   "outputs": [
    {
     "name": "stdout",
     "output_type": "stream",
     "text": [
      "0\n",
      "1\n",
      "2\n"
     ]
    }
   ],
   "source": [
    "for k in range(len(y)):\n",
    "    print(k)"
   ]
  },
  {
   "cell_type": "code",
   "execution_count": 16,
   "id": "beae434f",
   "metadata": {},
   "outputs": [
    {
     "name": "stdout",
     "output_type": "stream",
     "text": [
      " hello he said and went\n"
     ]
    }
   ],
   "source": [
    "#to remove pannhuation \n",
    "punctuations = '!()-{}[]\"><,./@#$%^&*_~'''\n",
    "\n",
    "\n",
    "my_str = \"hello!!!, he said ----and went\"\n",
    "\n",
    "no_punct = \" \"\n",
    "\n",
    "for char in my_str:\n",
    "    if char not in punctuations:\n",
    "        no_punct = no_punct + char\n",
    "print(no_punct)        \n",
    "\n"
   ]
  },
  {
   "cell_type": "code",
   "execution_count": 18,
   "id": "e474eb5b",
   "metadata": {},
   "outputs": [
    {
     "name": "stdout",
     "output_type": "stream",
     "text": [
      "union of e and n is: {0, 1, 2, 3, 4, 5, 6, 8}\n",
      "intersection of e and n is: {2, 4}\n",
      "difference of e and n is {0, 8, 6}\n",
      "symmetric difference of e and n is {0, 1, 3, 5, 6, 8}\n"
     ]
    }
   ],
   "source": [
    "#different set operation like in mathematics \n",
    "e = {0,2,4,6,8};\n",
    "n = {1,2,3,4,5};\n",
    "    \n",
    "print( 'union of e and n is:',e|n)   #sert union\n",
    "print('intersection of e and n is:',e&n)      #set intersection\n",
    "print('difference of e and n is', e-n)        #set difference\n",
    "print('symmetric difference of e and n is', e^n)  #set sammetric difference\n"
   ]
  },
  {
   "cell_type": "code",
   "execution_count": 22,
   "id": "dc7490a1",
   "metadata": {},
   "outputs": [
    {
     "name": "stdout",
     "output_type": "stream",
     "text": [
      "{'a': 5, 'e': 6, 'i': 2, 'o': 4, 'u': 2}\n"
     ]
    }
   ],
   "source": [
    "#count no of each vowel\n",
    "\n",
    "vowels = 'aeiou'\n",
    "ip_str = \"hello , have you tried to watch naruto the manga series\"\n",
    "ip_str = ip_str.casefold()\n",
    "\n",
    "count = {}.fromkeys(vowels,0)   #to make a dictionary with each vowel a key and value\n",
    "\n",
    "for char in ip_str:\n",
    "    if char in count:\n",
    "        count[char] += 1\n",
    "print(count)\n"
   ]
  }
 ],
 "metadata": {
  "kernelspec": {
   "display_name": "Python 3",
   "language": "python",
   "name": "python3"
  },
  "language_info": {
   "codemirror_mode": {
    "name": "ipython",
    "version": 3
   },
   "file_extension": ".py",
   "mimetype": "text/x-python",
   "name": "python",
   "nbconvert_exporter": "python",
   "pygments_lexer": "ipython3",
   "version": "3.8.8"
  }
 },
 "nbformat": 4,
 "nbformat_minor": 5
}
