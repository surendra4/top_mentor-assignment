{
 "cells": [
  {
   "cell_type": "code",
   "execution_count": null,
   "id": "23778817",
   "metadata": {},
   "outputs": [],
   "source": [
    "weight = float(input('the weight of package'))\n",
    "if weight <=2.0:\n",
    "    rate= 1.5\n",
    "    print('rate per pound $ 1.50')\n",
    "elif 2.0<weight<=6.0:\n",
    "    rate=3.00\n",
    "    print('rate per pound $ 3.00')\n",
    "elif 6.0<weight<=10.0:\n",
    "    rate=4.00\n",
    "    print('rate per pound $ 4.00')\n",
    "elif weight>10.0:\n",
    "    rate = 4.75\n",
    "    print('rate per pound $ 4.75')\n",
    "spend_money = weight*rate\n",
    "print('you have yo pay',spend_money)\n",
    "    \n",
    "\n",
    "    \n",
    "        "
   ]
  },
  {
   "cell_type": "code",
   "execution_count": null,
   "id": "be42aaf8",
   "metadata": {},
   "outputs": [],
   "source": []
  }
 ],
 "metadata": {
  "kernelspec": {
   "display_name": "Python 3",
   "language": "python",
   "name": "python3"
  },
  "language_info": {
   "codemirror_mode": {
    "name": "ipython",
    "version": 3
   },
   "file_extension": ".py",
   "mimetype": "text/x-python",
   "name": "python",
   "nbconvert_exporter": "python",
   "pygments_lexer": "ipython3",
   "version": "3.8.8"
  }
 },
 "nbformat": 4,
 "nbformat_minor": 5
}
