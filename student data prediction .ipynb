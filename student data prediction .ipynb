{
 "cells": [
  {
   "cell_type": "code",
   "execution_count": 1,
   "id": "cd740cb6",
   "metadata": {},
   "outputs": [],
   "source": [
    "import pandas as pd\n",
    "import seaborn as sns\n",
    "import matplotlib as plt"
   ]
  },
  {
   "cell_type": "code",
   "execution_count": 6,
   "id": "e72901f1",
   "metadata": {},
   "outputs": [],
   "source": [
    "df = pd.read_csv('C:/Users/Surendra/Desktop/data science/TOP MENTOR/mysql/Top_mentor_projects_Datasets-main/Students.csv')"
   ]
  },
  {
   "cell_type": "code",
   "execution_count": 8,
   "id": "5c59e40f",
   "metadata": {},
   "outputs": [
    {
     "data": {
      "text/html": [
       "<div>\n",
       "<style scoped>\n",
       "    .dataframe tbody tr th:only-of-type {\n",
       "        vertical-align: middle;\n",
       "    }\n",
       "\n",
       "    .dataframe tbody tr th {\n",
       "        vertical-align: top;\n",
       "    }\n",
       "\n",
       "    .dataframe thead th {\n",
       "        text-align: right;\n",
       "    }\n",
       "</style>\n",
       "<table border=\"1\" class=\"dataframe\">\n",
       "  <thead>\n",
       "    <tr style=\"text-align: right;\">\n",
       "      <th></th>\n",
       "      <th>JEEPRE</th>\n",
       "      <th>JEEMAINS</th>\n",
       "      <th>STATUS</th>\n",
       "    </tr>\n",
       "  </thead>\n",
       "  <tbody>\n",
       "    <tr>\n",
       "      <th>0</th>\n",
       "      <td>34.623660</td>\n",
       "      <td>78.024693</td>\n",
       "      <td>0</td>\n",
       "    </tr>\n",
       "    <tr>\n",
       "      <th>1</th>\n",
       "      <td>30.286711</td>\n",
       "      <td>43.894998</td>\n",
       "      <td>0</td>\n",
       "    </tr>\n",
       "    <tr>\n",
       "      <th>2</th>\n",
       "      <td>35.847409</td>\n",
       "      <td>72.902198</td>\n",
       "      <td>0</td>\n",
       "    </tr>\n",
       "    <tr>\n",
       "      <th>3</th>\n",
       "      <td>60.182599</td>\n",
       "      <td>86.308552</td>\n",
       "      <td>1</td>\n",
       "    </tr>\n",
       "    <tr>\n",
       "      <th>4</th>\n",
       "      <td>79.032736</td>\n",
       "      <td>75.344376</td>\n",
       "      <td>1</td>\n",
       "    </tr>\n",
       "  </tbody>\n",
       "</table>\n",
       "</div>"
      ],
      "text/plain": [
       "      JEEPRE   JEEMAINS  STATUS\n",
       "0  34.623660  78.024693       0\n",
       "1  30.286711  43.894998       0\n",
       "2  35.847409  72.902198       0\n",
       "3  60.182599  86.308552       1\n",
       "4  79.032736  75.344376       1"
      ]
     },
     "execution_count": 8,
     "metadata": {},
     "output_type": "execute_result"
    }
   ],
   "source": [
    "df.head()"
   ]
  },
  {
   "cell_type": "code",
   "execution_count": 13,
   "id": "e4dec79b",
   "metadata": {},
   "outputs": [
    {
     "data": {
      "text/plain": [
       "1    60\n",
       "0    40\n",
       "Name: STATUS, dtype: int64"
      ]
     },
     "execution_count": 13,
     "metadata": {},
     "output_type": "execute_result"
    }
   ],
   "source": [
    "df['STATUS'].value_counts()   #is it balanced or inbalanced"
   ]
  },
  {
   "cell_type": "code",
   "execution_count": 14,
   "id": "0c7ad432",
   "metadata": {},
   "outputs": [
    {
     "data": {
      "text/plain": [
       "(100, 3)"
      ]
     },
     "execution_count": 14,
     "metadata": {},
     "output_type": "execute_result"
    }
   ],
   "source": [
    "df.shape"
   ]
  },
  {
   "cell_type": "code",
   "execution_count": 19,
   "id": "dc60b759",
   "metadata": {},
   "outputs": [],
   "source": [
    "df = df.sample(frac =1)"
   ]
  },
  {
   "cell_type": "code",
   "execution_count": 20,
   "id": "fb463207",
   "metadata": {},
   "outputs": [
    {
     "data": {
      "text/html": [
       "<div>\n",
       "<style scoped>\n",
       "    .dataframe tbody tr th:only-of-type {\n",
       "        vertical-align: middle;\n",
       "    }\n",
       "\n",
       "    .dataframe tbody tr th {\n",
       "        vertical-align: top;\n",
       "    }\n",
       "\n",
       "    .dataframe thead th {\n",
       "        text-align: right;\n",
       "    }\n",
       "</style>\n",
       "<table border=\"1\" class=\"dataframe\">\n",
       "  <thead>\n",
       "    <tr style=\"text-align: right;\">\n",
       "      <th></th>\n",
       "      <th>JEEPRE</th>\n",
       "      <th>JEEMAINS</th>\n",
       "      <th>STATUS</th>\n",
       "    </tr>\n",
       "  </thead>\n",
       "  <tbody>\n",
       "    <tr>\n",
       "      <th>22</th>\n",
       "      <td>50.534788</td>\n",
       "      <td>48.855812</td>\n",
       "      <td>0</td>\n",
       "    </tr>\n",
       "    <tr>\n",
       "      <th>96</th>\n",
       "      <td>42.261701</td>\n",
       "      <td>87.103851</td>\n",
       "      <td>1</td>\n",
       "    </tr>\n",
       "    <tr>\n",
       "      <th>73</th>\n",
       "      <td>60.457886</td>\n",
       "      <td>73.094998</td>\n",
       "      <td>1</td>\n",
       "    </tr>\n",
       "    <tr>\n",
       "      <th>21</th>\n",
       "      <td>89.676776</td>\n",
       "      <td>65.799366</td>\n",
       "      <td>1</td>\n",
       "    </tr>\n",
       "    <tr>\n",
       "      <th>57</th>\n",
       "      <td>32.577200</td>\n",
       "      <td>95.598548</td>\n",
       "      <td>0</td>\n",
       "    </tr>\n",
       "  </tbody>\n",
       "</table>\n",
       "</div>"
      ],
      "text/plain": [
       "       JEEPRE   JEEMAINS  STATUS\n",
       "22  50.534788  48.855812       0\n",
       "96  42.261701  87.103851       1\n",
       "73  60.457886  73.094998       1\n",
       "21  89.676776  65.799366       1\n",
       "57  32.577200  95.598548       0"
      ]
     },
     "execution_count": 20,
     "metadata": {},
     "output_type": "execute_result"
    }
   ],
   "source": [
    "df.head()"
   ]
  },
  {
   "cell_type": "code",
   "execution_count": 21,
   "id": "f3dcdd51",
   "metadata": {},
   "outputs": [],
   "source": [
    "from sklearn.model_selection import train_test_split"
   ]
  },
  {
   "cell_type": "code",
   "execution_count": 22,
   "id": "0c2e003f",
   "metadata": {},
   "outputs": [],
   "source": [
    "train,test = train_test_split(df,test_size= 0.3 ,random_state =1234)"
   ]
  },
  {
   "cell_type": "code",
   "execution_count": 23,
   "id": "a66f591b",
   "metadata": {},
   "outputs": [
    {
     "data": {
      "text/plain": [
       "(70, 3)"
      ]
     },
     "execution_count": 23,
     "metadata": {},
     "output_type": "execute_result"
    }
   ],
   "source": [
    "train.shape"
   ]
  },
  {
   "cell_type": "code",
   "execution_count": 25,
   "id": "9e530b74",
   "metadata": {},
   "outputs": [
    {
     "data": {
      "text/plain": [
       "1    38\n",
       "0    32\n",
       "Name: STATUS, dtype: int64"
      ]
     },
     "execution_count": 25,
     "metadata": {},
     "output_type": "execute_result"
    }
   ],
   "source": [
    "train['STATUS'].value_counts()"
   ]
  },
  {
   "cell_type": "code",
   "execution_count": 27,
   "id": "056e4c3f",
   "metadata": {},
   "outputs": [],
   "source": [
    "y_train = train['STATUS']\n",
    "x_train = train[['JEEPRE','JEEMAINS']]"
   ]
  },
  {
   "cell_type": "code",
   "execution_count": 29,
   "id": "1b61e7ea",
   "metadata": {},
   "outputs": [],
   "source": [
    "from sklearn.linear_model import LogisticRegression\n",
    "lc = LogisticRegression()"
   ]
  },
  {
   "cell_type": "code",
   "execution_count": 30,
   "id": "f69a61e4",
   "metadata": {},
   "outputs": [],
   "source": [
    "model = lc.fit(x_train,y_train) "
   ]
  },
  {
   "cell_type": "code",
   "execution_count": 33,
   "id": "4644be76",
   "metadata": {},
   "outputs": [
    {
     "data": {
      "text/plain": [
       "array([[0.22320015, 0.1906309 ]])"
      ]
     },
     "execution_count": 33,
     "metadata": {},
     "output_type": "execute_result"
    }
   ],
   "source": [
    "model.coef_"
   ]
  },
  {
   "cell_type": "code",
   "execution_count": 34,
   "id": "653336a6",
   "metadata": {},
   "outputs": [
    {
     "data": {
      "text/plain": [
       "0.9"
      ]
     },
     "execution_count": 34,
     "metadata": {},
     "output_type": "execute_result"
    }
   ],
   "source": [
    "model.score(x_train,y_train)"
   ]
  },
  {
   "cell_type": "code",
   "execution_count": 35,
   "id": "1f80bcd7",
   "metadata": {},
   "outputs": [],
   "source": [
    "x_test = test[['JEEPRE','JEEMAINS']]\n",
    "y_test = test['STATUS']"
   ]
  },
  {
   "cell_type": "code",
   "execution_count": 37,
   "id": "733f8acf",
   "metadata": {},
   "outputs": [
    {
     "data": {
      "text/plain": [
       "array([1, 1, 0, 0, 1, 1, 1, 1, 1, 1, 0, 1, 1, 1, 1, 1, 1, 1, 1, 0, 1, 1,\n",
       "       1, 1, 0, 1, 1, 1, 1, 0], dtype=int64)"
      ]
     },
     "execution_count": 37,
     "metadata": {},
     "output_type": "execute_result"
    }
   ],
   "source": [
    "pred = model.predict(x_test)\n",
    "pred"
   ]
  },
  {
   "cell_type": "code",
   "execution_count": 38,
   "id": "fa20ff43",
   "metadata": {},
   "outputs": [
    {
     "data": {
      "text/plain": [
       "array([[2.30358423e-05, 9.99976964e-01],\n",
       "       [1.48646591e-01, 8.51353409e-01],\n",
       "       [9.99911740e-01, 8.82602119e-05],\n",
       "       [8.30112950e-01, 1.69887050e-01],\n",
       "       [2.50159880e-01, 7.49840120e-01],\n",
       "       [3.61151185e-02, 9.63884881e-01],\n",
       "       [1.69214317e-02, 9.83078568e-01],\n",
       "       [1.35295198e-03, 9.98647048e-01],\n",
       "       [5.24888393e-04, 9.99475112e-01],\n",
       "       [1.00388547e-03, 9.98996115e-01],\n",
       "       [9.95314854e-01, 4.68514647e-03],\n",
       "       [2.36042582e-06, 9.99997640e-01],\n",
       "       [1.17465470e-01, 8.82534530e-01],\n",
       "       [3.75209411e-03, 9.96247906e-01],\n",
       "       [4.18743386e-04, 9.99581257e-01],\n",
       "       [1.01531054e-01, 8.98468946e-01],\n",
       "       [2.25356222e-02, 9.77464378e-01],\n",
       "       [3.45578631e-01, 6.54421369e-01],\n",
       "       [1.00173140e-01, 8.99826860e-01],\n",
       "       [9.99902532e-01, 9.74683548e-05],\n",
       "       [2.27764455e-04, 9.99772236e-01],\n",
       "       [5.81224211e-03, 9.94187758e-01],\n",
       "       [2.98981508e-01, 7.01018492e-01],\n",
       "       [1.04276667e-05, 9.99989572e-01],\n",
       "       [9.37564236e-01, 6.24357636e-02],\n",
       "       [1.64667668e-04, 9.99835332e-01],\n",
       "       [1.05690476e-02, 9.89430952e-01],\n",
       "       [7.31671071e-05, 9.99926833e-01],\n",
       "       [5.15800128e-03, 9.94841999e-01],\n",
       "       [8.88849552e-01, 1.11150448e-01]])"
      ]
     },
     "execution_count": 38,
     "metadata": {},
     "output_type": "execute_result"
    }
   ],
   "source": [
    "model.predict_proba(x_test)"
   ]
  },
  {
   "cell_type": "code",
   "execution_count": 39,
   "id": "ef9cca30",
   "metadata": {},
   "outputs": [],
   "source": [
    "from sklearn.metrics import  accuracy_score, confusion_matrix"
   ]
  },
  {
   "cell_type": "code",
   "execution_count": 40,
   "id": "effaecf3",
   "metadata": {},
   "outputs": [
    {
     "data": {
      "text/plain": [
       "0.9333333333333333"
      ]
     },
     "execution_count": 40,
     "metadata": {},
     "output_type": "execute_result"
    }
   ],
   "source": [
    "accuracy_score(y_test,pred)"
   ]
  },
  {
   "cell_type": "code",
   "execution_count": 42,
   "id": "eed54bf7",
   "metadata": {},
   "outputs": [
    {
     "data": {
      "text/plain": [
       "0.06666666666666665"
      ]
     },
     "execution_count": 42,
     "metadata": {},
     "output_type": "execute_result"
    }
   ],
   "source": [
    "1-accuracy_score(y_test,pred)"
   ]
  },
  {
   "cell_type": "code",
   "execution_count": 43,
   "id": "7d3818a9",
   "metadata": {},
   "outputs": [
    {
     "data": {
      "text/plain": [
       "array([[ 6,  2],\n",
       "       [ 0, 22]], dtype=int64)"
      ]
     },
     "execution_count": 43,
     "metadata": {},
     "output_type": "execute_result"
    }
   ],
   "source": [
    "confusion_matrix(y_test,pred)"
   ]
  },
  {
   "cell_type": "code",
   "execution_count": 48,
   "id": "32ded12f",
   "metadata": {},
   "outputs": [
    {
     "data": {
      "text/plain": [
       "<AxesSubplot:>"
      ]
     },
     "execution_count": 48,
     "metadata": {},
     "output_type": "execute_result"
    },
    {
     "data": {
      "image/png": "[encoded data removed]",
      "text/plain": [
       "<Figure size 432x288 with 2 Axes>"
      ]
     },
     "metadata": {
      "needs_background": "light"
     },
     "output_type": "display_data"
    }
   ],
   "source": [
    "import seaborn as sns\n",
    "sns.heatmap(confusion_matrix(y_test,pred), annot = True)"
   ]
  },
  {
   "cell_type": "code",
   "execution_count": null,
   "id": "00c65c39",
   "metadata": {},
   "outputs": [],
   "source": []
  },
  {
   "cell_type": "code",
   "execution_count": null,
   "id": "7cad8039",
   "metadata": {},
   "outputs": [],
   "source": []
  }
 ],
 "metadata": {
  "kernelspec": {
   "display_name": "Python 3",
   "language": "python",
   "name": "python3"
  },
  "language_info": {
   "codemirror_mode": {
    "name": "ipython",
    "version": 3
   },
   "file_extension": ".py",
   "mimetype": "text/x-python",
   "name": "python",
   "nbconvert_exporter": "python",
   "pygments_lexer": "ipython3",
   "version": "3.8.8"
  }
 },
 "nbformat": 4,
 "nbformat_minor": 5
}
